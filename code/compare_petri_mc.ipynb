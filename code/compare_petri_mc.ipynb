{
 "cells": [
  {
   "cell_type": "code",
   "execution_count": 1,
   "metadata": {},
   "outputs": [],
   "source": [
    "# this ipynb file compares petri nets and markov chains for the metrics used in the report \n",
    "\n",
    "import pm4py\n",
    "from mc_functions_metrics import folder_IT_between_mc, folder_IT_firstlast_mc, ks_entropy_folder, density_folder_mc\n",
    "from comparison_tests import anderson_ksamp_testing\n",
    "import matplotlib.pyplot as plt\n",
    "from petri_functions_metrics import folder_IT_between_pn, folder_IT_firstlast_pn, folder_density, folder_IT_between_log, folder_IT_firstlast_log\n",
    "import numpy as np"
   ]
  },
  {
   "cell_type": "code",
   "execution_count": 2,
   "metadata": {},
   "outputs": [],
   "source": [
    "u_folder = '/Users/ethanjohnson/Desktop/newtwitter/uae/uae-goodsim'\n",
    "c_folder = '/Users/ethanjohnson/Desktop/newtwitter/uae/uae-badsim'"
   ]
  },
  {
   "cell_type": "code",
   "execution_count": 37,
   "metadata": {},
   "outputs": [
    {
     "name": "stderr",
     "output_type": "stream",
     "text": [
      "parsing log, completed traces :: 100%|██████████| 199/199 [00:00<00:00, 5156.75it/s]\n",
      "/Users/ethanjohnson/.local/share/virtualenvs/mphil-project-KaAb4vnI/lib/python3.10/site-packages/pm4py/utils.py:537: UserWarning: the EventLog class has been deprecated and will be removed in a future release.\n",
      "  warnings.warn(\"the EventLog class has been deprecated and will be removed in a future release.\")\n",
      "parsing log, completed traces :: 100%|██████████| 200/200 [00:00<00:00, 6388.98it/s]\n",
      "/Users/ethanjohnson/.local/share/virtualenvs/mphil-project-KaAb4vnI/lib/python3.10/site-packages/pm4py/utils.py:537: UserWarning: the EventLog class has been deprecated and will be removed in a future release.\n",
      "  warnings.warn(\"the EventLog class has been deprecated and will be removed in a future release.\")\n",
      "parsing log, completed traces :: 100%|██████████| 200/200 [00:00<00:00, 6206.75it/s]\n",
      "/Users/ethanjohnson/.local/share/virtualenvs/mphil-project-KaAb4vnI/lib/python3.10/site-packages/pm4py/utils.py:537: UserWarning: the EventLog class has been deprecated and will be removed in a future release.\n",
      "  warnings.warn(\"the EventLog class has been deprecated and will be removed in a future release.\")\n",
      "parsing log, completed traces :: 100%|██████████| 199/199 [00:00<00:00, 6625.60it/s]\n",
      "/Users/ethanjohnson/.local/share/virtualenvs/mphil-project-KaAb4vnI/lib/python3.10/site-packages/pm4py/utils.py:537: UserWarning: the EventLog class has been deprecated and will be removed in a future release.\n",
      "  warnings.warn(\"the EventLog class has been deprecated and will be removed in a future release.\")\n",
      "parsing log, completed traces :: 100%|██████████| 199/199 [00:00<00:00, 6180.56it/s]\n",
      "/Users/ethanjohnson/.local/share/virtualenvs/mphil-project-KaAb4vnI/lib/python3.10/site-packages/pm4py/utils.py:537: UserWarning: the EventLog class has been deprecated and will be removed in a future release.\n",
      "  warnings.warn(\"the EventLog class has been deprecated and will be removed in a future release.\")\n",
      "parsing log, completed traces :: 100%|██████████| 199/199 [00:00<00:00, 6273.28it/s]\n",
      "/Users/ethanjohnson/.local/share/virtualenvs/mphil-project-KaAb4vnI/lib/python3.10/site-packages/pm4py/utils.py:537: UserWarning: the EventLog class has been deprecated and will be removed in a future release.\n",
      "  warnings.warn(\"the EventLog class has been deprecated and will be removed in a future release.\")\n",
      "parsing log, completed traces :: 100%|██████████| 200/200 [00:00<00:00, 6375.53it/s]\n",
      "/Users/ethanjohnson/.local/share/virtualenvs/mphil-project-KaAb4vnI/lib/python3.10/site-packages/pm4py/utils.py:537: UserWarning: the EventLog class has been deprecated and will be removed in a future release.\n",
      "  warnings.warn(\"the EventLog class has been deprecated and will be removed in a future release.\")\n",
      "parsing log, completed traces :: 100%|██████████| 198/198 [00:00<00:00, 6720.34it/s]\n",
      "/Users/ethanjohnson/.local/share/virtualenvs/mphil-project-KaAb4vnI/lib/python3.10/site-packages/pm4py/utils.py:537: UserWarning: the EventLog class has been deprecated and will be removed in a future release.\n",
      "  warnings.warn(\"the EventLog class has been deprecated and will be removed in a future release.\")\n",
      "parsing log, completed traces :: 100%|██████████| 199/199 [00:00<00:00, 6993.73it/s]\n",
      "/Users/ethanjohnson/.local/share/virtualenvs/mphil-project-KaAb4vnI/lib/python3.10/site-packages/pm4py/utils.py:537: UserWarning: the EventLog class has been deprecated and will be removed in a future release.\n",
      "  warnings.warn(\"the EventLog class has been deprecated and will be removed in a future release.\")\n",
      "parsing log, completed traces :: 100%|██████████| 200/200 [00:00<00:00, 6575.28it/s]\n",
      "/Users/ethanjohnson/.local/share/virtualenvs/mphil-project-KaAb4vnI/lib/python3.10/site-packages/pm4py/utils.py:537: UserWarning: the EventLog class has been deprecated and will be removed in a future release.\n",
      "  warnings.warn(\"the EventLog class has been deprecated and will be removed in a future release.\")\n",
      "parsing log, completed traces :: 100%|██████████| 200/200 [00:00<00:00, 6430.81it/s]\n",
      "/Users/ethanjohnson/.local/share/virtualenvs/mphil-project-KaAb4vnI/lib/python3.10/site-packages/pm4py/utils.py:537: UserWarning: the EventLog class has been deprecated and will be removed in a future release.\n",
      "  warnings.warn(\"the EventLog class has been deprecated and will be removed in a future release.\")\n",
      "parsing log, completed traces :: 100%|██████████| 198/198 [00:00<00:00, 6820.01it/s]\n",
      "/Users/ethanjohnson/.local/share/virtualenvs/mphil-project-KaAb4vnI/lib/python3.10/site-packages/pm4py/utils.py:537: UserWarning: the EventLog class has been deprecated and will be removed in a future release.\n",
      "  warnings.warn(\"the EventLog class has been deprecated and will be removed in a future release.\")\n",
      "parsing log, completed traces :: 100%|██████████| 200/200 [00:00<00:00, 6923.58it/s]\n",
      "/Users/ethanjohnson/.local/share/virtualenvs/mphil-project-KaAb4vnI/lib/python3.10/site-packages/pm4py/utils.py:537: UserWarning: the EventLog class has been deprecated and will be removed in a future release.\n",
      "  warnings.warn(\"the EventLog class has been deprecated and will be removed in a future release.\")\n",
      "parsing log, completed traces :: 100%|██████████| 198/198 [00:00<00:00, 7066.89it/s]\n",
      "/Users/ethanjohnson/.local/share/virtualenvs/mphil-project-KaAb4vnI/lib/python3.10/site-packages/pm4py/utils.py:537: UserWarning: the EventLog class has been deprecated and will be removed in a future release.\n",
      "  warnings.warn(\"the EventLog class has been deprecated and will be removed in a future release.\")\n",
      "parsing log, completed traces :: 100%|██████████| 200/200 [00:00<00:00, 6630.68it/s]\n",
      "/Users/ethanjohnson/.local/share/virtualenvs/mphil-project-KaAb4vnI/lib/python3.10/site-packages/pm4py/utils.py:537: UserWarning: the EventLog class has been deprecated and will be removed in a future release.\n",
      "  warnings.warn(\"the EventLog class has been deprecated and will be removed in a future release.\")\n",
      "parsing log, completed traces :: 100%|██████████| 200/200 [00:00<00:00, 6734.43it/s]\n",
      "/Users/ethanjohnson/.local/share/virtualenvs/mphil-project-KaAb4vnI/lib/python3.10/site-packages/pm4py/utils.py:537: UserWarning: the EventLog class has been deprecated and will be removed in a future release.\n",
      "  warnings.warn(\"the EventLog class has been deprecated and will be removed in a future release.\")\n",
      "parsing log, completed traces :: 100%|██████████| 199/199 [00:00<00:00, 6652.85it/s]\n",
      "/Users/ethanjohnson/.local/share/virtualenvs/mphil-project-KaAb4vnI/lib/python3.10/site-packages/pm4py/utils.py:537: UserWarning: the EventLog class has been deprecated and will be removed in a future release.\n",
      "  warnings.warn(\"the EventLog class has been deprecated and will be removed in a future release.\")\n",
      "parsing log, completed traces :: 100%|██████████| 200/200 [00:00<00:00, 6428.15it/s]\n",
      "/Users/ethanjohnson/.local/share/virtualenvs/mphil-project-KaAb4vnI/lib/python3.10/site-packages/pm4py/utils.py:537: UserWarning: the EventLog class has been deprecated and will be removed in a future release.\n",
      "  warnings.warn(\"the EventLog class has been deprecated and will be removed in a future release.\")\n",
      "parsing log, completed traces :: 100%|██████████| 200/200 [00:00<00:00, 6089.73it/s]\n",
      "/Users/ethanjohnson/.local/share/virtualenvs/mphil-project-KaAb4vnI/lib/python3.10/site-packages/pm4py/utils.py:537: UserWarning: the EventLog class has been deprecated and will be removed in a future release.\n",
      "  warnings.warn(\"the EventLog class has been deprecated and will be removed in a future release.\")\n",
      "parsing log, completed traces :: 100%|██████████| 200/200 [00:00<00:00, 6204.96it/s]\n",
      "/Users/ethanjohnson/.local/share/virtualenvs/mphil-project-KaAb4vnI/lib/python3.10/site-packages/pm4py/utils.py:537: UserWarning: the EventLog class has been deprecated and will be removed in a future release.\n",
      "  warnings.warn(\"the EventLog class has been deprecated and will be removed in a future release.\")\n",
      "parsing log, completed traces :: 100%|██████████| 199/199 [00:00<00:00, 6442.61it/s]\n",
      "/Users/ethanjohnson/.local/share/virtualenvs/mphil-project-KaAb4vnI/lib/python3.10/site-packages/pm4py/utils.py:537: UserWarning: the EventLog class has been deprecated and will be removed in a future release.\n",
      "  warnings.warn(\"the EventLog class has been deprecated and will be removed in a future release.\")\n",
      "parsing log, completed traces :: 100%|██████████| 199/199 [00:00<00:00, 6639.78it/s]\n",
      "/Users/ethanjohnson/.local/share/virtualenvs/mphil-project-KaAb4vnI/lib/python3.10/site-packages/pm4py/utils.py:537: UserWarning: the EventLog class has been deprecated and will be removed in a future release.\n",
      "  warnings.warn(\"the EventLog class has been deprecated and will be removed in a future release.\")\n",
      "parsing log, completed traces :: 100%|██████████| 200/200 [00:00<00:00, 6919.47it/s]\n",
      "/Users/ethanjohnson/.local/share/virtualenvs/mphil-project-KaAb4vnI/lib/python3.10/site-packages/pm4py/utils.py:537: UserWarning: the EventLog class has been deprecated and will be removed in a future release.\n",
      "  warnings.warn(\"the EventLog class has been deprecated and will be removed in a future release.\")\n",
      "parsing log, completed traces :: 100%|██████████| 200/200 [00:00<00:00, 5879.07it/s]\n",
      "/Users/ethanjohnson/.local/share/virtualenvs/mphil-project-KaAb4vnI/lib/python3.10/site-packages/pm4py/utils.py:537: UserWarning: the EventLog class has been deprecated and will be removed in a future release.\n",
      "  warnings.warn(\"the EventLog class has been deprecated and will be removed in a future release.\")\n",
      "parsing log, completed traces :: 100%|██████████| 199/199 [00:00<00:00, 6118.36it/s]\n",
      "/Users/ethanjohnson/.local/share/virtualenvs/mphil-project-KaAb4vnI/lib/python3.10/site-packages/pm4py/utils.py:537: UserWarning: the EventLog class has been deprecated and will be removed in a future release.\n",
      "  warnings.warn(\"the EventLog class has been deprecated and will be removed in a future release.\")\n",
      "parsing log, completed traces :: 100%|██████████| 200/200 [00:00<00:00, 6338.73it/s]\n",
      "/Users/ethanjohnson/.local/share/virtualenvs/mphil-project-KaAb4vnI/lib/python3.10/site-packages/pm4py/utils.py:537: UserWarning: the EventLog class has been deprecated and will be removed in a future release.\n",
      "  warnings.warn(\"the EventLog class has been deprecated and will be removed in a future release.\")\n",
      "parsing log, completed traces :: 100%|██████████| 199/199 [00:00<00:00, 6265.37it/s]\n",
      "/Users/ethanjohnson/.local/share/virtualenvs/mphil-project-KaAb4vnI/lib/python3.10/site-packages/pm4py/utils.py:537: UserWarning: the EventLog class has been deprecated and will be removed in a future release.\n",
      "  warnings.warn(\"the EventLog class has been deprecated and will be removed in a future release.\")\n",
      "parsing log, completed traces :: 100%|██████████| 200/200 [00:00<00:00, 6459.33it/s]\n",
      "/Users/ethanjohnson/.local/share/virtualenvs/mphil-project-KaAb4vnI/lib/python3.10/site-packages/pm4py/utils.py:537: UserWarning: the EventLog class has been deprecated and will be removed in a future release.\n",
      "  warnings.warn(\"the EventLog class has been deprecated and will be removed in a future release.\")\n",
      "parsing log, completed traces :: 100%|██████████| 200/200 [00:00<00:00, 6684.31it/s]\n",
      "/Users/ethanjohnson/.local/share/virtualenvs/mphil-project-KaAb4vnI/lib/python3.10/site-packages/pm4py/utils.py:537: UserWarning: the EventLog class has been deprecated and will be removed in a future release.\n",
      "  warnings.warn(\"the EventLog class has been deprecated and will be removed in a future release.\")\n",
      "parsing log, completed traces :: 100%|██████████| 200/200 [00:00<00:00, 6503.40it/s]\n",
      "/Users/ethanjohnson/.local/share/virtualenvs/mphil-project-KaAb4vnI/lib/python3.10/site-packages/pm4py/utils.py:537: UserWarning: the EventLog class has been deprecated and will be removed in a future release.\n",
      "  warnings.warn(\"the EventLog class has been deprecated and will be removed in a future release.\")\n",
      "parsing log, completed traces :: 100%|██████████| 181/181 [00:00<00:00, 8347.19it/s]\n",
      "/Users/ethanjohnson/.local/share/virtualenvs/mphil-project-KaAb4vnI/lib/python3.10/site-packages/pm4py/utils.py:537: UserWarning: the EventLog class has been deprecated and will be removed in a future release.\n",
      "  warnings.warn(\"the EventLog class has been deprecated and will be removed in a future release.\")\n",
      "parsing log, completed traces :: 100%|██████████| 185/185 [00:00<00:00, 8240.55it/s]\n",
      "/Users/ethanjohnson/.local/share/virtualenvs/mphil-project-KaAb4vnI/lib/python3.10/site-packages/pm4py/utils.py:537: UserWarning: the EventLog class has been deprecated and will be removed in a future release.\n",
      "  warnings.warn(\"the EventLog class has been deprecated and will be removed in a future release.\")\n",
      "parsing log, completed traces :: 100%|██████████| 180/180 [00:00<00:00, 3032.86it/s]\n",
      "/Users/ethanjohnson/.local/share/virtualenvs/mphil-project-KaAb4vnI/lib/python3.10/site-packages/pm4py/utils.py:537: UserWarning: the EventLog class has been deprecated and will be removed in a future release.\n",
      "  warnings.warn(\"the EventLog class has been deprecated and will be removed in a future release.\")\n",
      "parsing log, completed traces :: 100%|██████████| 187/187 [00:00<00:00, 2635.04it/s]\n",
      "/Users/ethanjohnson/.local/share/virtualenvs/mphil-project-KaAb4vnI/lib/python3.10/site-packages/pm4py/utils.py:537: UserWarning: the EventLog class has been deprecated and will be removed in a future release.\n",
      "  warnings.warn(\"the EventLog class has been deprecated and will be removed in a future release.\")\n",
      "parsing log, completed traces :: 100%|██████████| 187/187 [00:00<00:00, 1801.58it/s]\n",
      "/Users/ethanjohnson/.local/share/virtualenvs/mphil-project-KaAb4vnI/lib/python3.10/site-packages/pm4py/utils.py:537: UserWarning: the EventLog class has been deprecated and will be removed in a future release.\n",
      "  warnings.warn(\"the EventLog class has been deprecated and will be removed in a future release.\")\n",
      "parsing log, completed traces :: 100%|██████████| 180/180 [00:00<00:00, 8209.46it/s]\n",
      "/Users/ethanjohnson/.local/share/virtualenvs/mphil-project-KaAb4vnI/lib/python3.10/site-packages/pm4py/utils.py:537: UserWarning: the EventLog class has been deprecated and will be removed in a future release.\n",
      "  warnings.warn(\"the EventLog class has been deprecated and will be removed in a future release.\")\n",
      "parsing log, completed traces :: 100%|██████████| 182/182 [00:00<00:00, 7605.80it/s]\n",
      "/Users/ethanjohnson/.local/share/virtualenvs/mphil-project-KaAb4vnI/lib/python3.10/site-packages/pm4py/utils.py:537: UserWarning: the EventLog class has been deprecated and will be removed in a future release.\n",
      "  warnings.warn(\"the EventLog class has been deprecated and will be removed in a future release.\")\n",
      "parsing log, completed traces :: 100%|██████████| 189/189 [00:00<00:00, 8144.78it/s]\n",
      "/Users/ethanjohnson/.local/share/virtualenvs/mphil-project-KaAb4vnI/lib/python3.10/site-packages/pm4py/utils.py:537: UserWarning: the EventLog class has been deprecated and will be removed in a future release.\n",
      "  warnings.warn(\"the EventLog class has been deprecated and will be removed in a future release.\")\n",
      "parsing log, completed traces :: 100%|██████████| 184/184 [00:00<00:00, 7508.04it/s]\n",
      "/Users/ethanjohnson/.local/share/virtualenvs/mphil-project-KaAb4vnI/lib/python3.10/site-packages/pm4py/utils.py:537: UserWarning: the EventLog class has been deprecated and will be removed in a future release.\n",
      "  warnings.warn(\"the EventLog class has been deprecated and will be removed in a future release.\")\n",
      "parsing log, completed traces :: 100%|██████████| 189/189 [00:00<00:00, 1384.38it/s]\n",
      "/Users/ethanjohnson/.local/share/virtualenvs/mphil-project-KaAb4vnI/lib/python3.10/site-packages/pm4py/utils.py:537: UserWarning: the EventLog class has been deprecated and will be removed in a future release.\n",
      "  warnings.warn(\"the EventLog class has been deprecated and will be removed in a future release.\")\n",
      "parsing log, completed traces :: 100%|██████████| 181/181 [00:00<00:00, 7846.63it/s]\n",
      "/Users/ethanjohnson/.local/share/virtualenvs/mphil-project-KaAb4vnI/lib/python3.10/site-packages/pm4py/utils.py:537: UserWarning: the EventLog class has been deprecated and will be removed in a future release.\n",
      "  warnings.warn(\"the EventLog class has been deprecated and will be removed in a future release.\")\n",
      "parsing log, completed traces :: 100%|██████████| 191/191 [00:00<00:00, 1183.50it/s]\n",
      "/Users/ethanjohnson/.local/share/virtualenvs/mphil-project-KaAb4vnI/lib/python3.10/site-packages/pm4py/utils.py:537: UserWarning: the EventLog class has been deprecated and will be removed in a future release.\n",
      "  warnings.warn(\"the EventLog class has been deprecated and will be removed in a future release.\")\n",
      "parsing log, completed traces :: 100%|██████████| 186/186 [00:00<00:00, 1019.48it/s]\n",
      "/Users/ethanjohnson/.local/share/virtualenvs/mphil-project-KaAb4vnI/lib/python3.10/site-packages/pm4py/utils.py:537: UserWarning: the EventLog class has been deprecated and will be removed in a future release.\n",
      "  warnings.warn(\"the EventLog class has been deprecated and will be removed in a future release.\")\n",
      "parsing log, completed traces :: 100%|██████████| 188/188 [00:00<00:00, 993.80it/s]\n",
      "/Users/ethanjohnson/.local/share/virtualenvs/mphil-project-KaAb4vnI/lib/python3.10/site-packages/pm4py/utils.py:537: UserWarning: the EventLog class has been deprecated and will be removed in a future release.\n",
      "  warnings.warn(\"the EventLog class has been deprecated and will be removed in a future release.\")\n",
      "parsing log, completed traces :: 100%|██████████| 187/187 [00:00<00:00, 892.79it/s]\n",
      "/Users/ethanjohnson/.local/share/virtualenvs/mphil-project-KaAb4vnI/lib/python3.10/site-packages/pm4py/utils.py:537: UserWarning: the EventLog class has been deprecated and will be removed in a future release.\n",
      "  warnings.warn(\"the EventLog class has been deprecated and will be removed in a future release.\")\n",
      "parsing log, completed traces :: 100%|██████████| 186/186 [00:00<00:00, 8211.57it/s]\n",
      "/Users/ethanjohnson/.local/share/virtualenvs/mphil-project-KaAb4vnI/lib/python3.10/site-packages/pm4py/utils.py:537: UserWarning: the EventLog class has been deprecated and will be removed in a future release.\n",
      "  warnings.warn(\"the EventLog class has been deprecated and will be removed in a future release.\")\n",
      "parsing log, completed traces :: 100%|██████████| 186/186 [00:00<00:00, 845.43it/s]\n",
      "/Users/ethanjohnson/.local/share/virtualenvs/mphil-project-KaAb4vnI/lib/python3.10/site-packages/pm4py/utils.py:537: UserWarning: the EventLog class has been deprecated and will be removed in a future release.\n",
      "  warnings.warn(\"the EventLog class has been deprecated and will be removed in a future release.\")\n",
      "parsing log, completed traces :: 100%|██████████| 185/185 [00:00<00:00, 7533.75it/s]\n",
      "/Users/ethanjohnson/.local/share/virtualenvs/mphil-project-KaAb4vnI/lib/python3.10/site-packages/pm4py/utils.py:537: UserWarning: the EventLog class has been deprecated and will be removed in a future release.\n",
      "  warnings.warn(\"the EventLog class has been deprecated and will be removed in a future release.\")\n",
      "parsing log, completed traces :: 100%|██████████| 186/186 [00:00<00:00, 7873.37it/s]\n",
      "/Users/ethanjohnson/.local/share/virtualenvs/mphil-project-KaAb4vnI/lib/python3.10/site-packages/pm4py/utils.py:537: UserWarning: the EventLog class has been deprecated and will be removed in a future release.\n",
      "  warnings.warn(\"the EventLog class has been deprecated and will be removed in a future release.\")\n",
      "parsing log, completed traces :: 100%|██████████| 188/188 [00:00<00:00, 7979.53it/s]\n",
      "/Users/ethanjohnson/.local/share/virtualenvs/mphil-project-KaAb4vnI/lib/python3.10/site-packages/pm4py/utils.py:537: UserWarning: the EventLog class has been deprecated and will be removed in a future release.\n",
      "  warnings.warn(\"the EventLog class has been deprecated and will be removed in a future release.\")\n",
      "parsing log, completed traces :: 100%|██████████| 189/189 [00:00<00:00, 628.21it/s]\n",
      "/Users/ethanjohnson/.local/share/virtualenvs/mphil-project-KaAb4vnI/lib/python3.10/site-packages/pm4py/utils.py:537: UserWarning: the EventLog class has been deprecated and will be removed in a future release.\n",
      "  warnings.warn(\"the EventLog class has been deprecated and will be removed in a future release.\")\n",
      "parsing log, completed traces :: 100%|██████████| 182/182 [00:00<00:00, 571.82it/s]\n",
      "/Users/ethanjohnson/.local/share/virtualenvs/mphil-project-KaAb4vnI/lib/python3.10/site-packages/pm4py/utils.py:537: UserWarning: the EventLog class has been deprecated and will be removed in a future release.\n",
      "  warnings.warn(\"the EventLog class has been deprecated and will be removed in a future release.\")\n",
      "parsing log, completed traces :: 100%|██████████| 182/182 [00:00<00:00, 545.40it/s]\n",
      "/Users/ethanjohnson/.local/share/virtualenvs/mphil-project-KaAb4vnI/lib/python3.10/site-packages/pm4py/utils.py:537: UserWarning: the EventLog class has been deprecated and will be removed in a future release.\n",
      "  warnings.warn(\"the EventLog class has been deprecated and will be removed in a future release.\")\n",
      "parsing log, completed traces :: 100%|██████████| 185/185 [00:00<00:00, 551.65it/s]\n",
      "/Users/ethanjohnson/.local/share/virtualenvs/mphil-project-KaAb4vnI/lib/python3.10/site-packages/pm4py/utils.py:537: UserWarning: the EventLog class has been deprecated and will be removed in a future release.\n",
      "  warnings.warn(\"the EventLog class has been deprecated and will be removed in a future release.\")\n",
      "parsing log, completed traces :: 100%|██████████| 187/187 [00:00<00:00, 7442.85it/s]\n",
      "/Users/ethanjohnson/.local/share/virtualenvs/mphil-project-KaAb4vnI/lib/python3.10/site-packages/pm4py/utils.py:537: UserWarning: the EventLog class has been deprecated and will be removed in a future release.\n",
      "  warnings.warn(\"the EventLog class has been deprecated and will be removed in a future release.\")\n",
      "parsing log, completed traces :: 100%|██████████| 183/183 [00:00<00:00, 7419.10it/s]\n",
      "/Users/ethanjohnson/.local/share/virtualenvs/mphil-project-KaAb4vnI/lib/python3.10/site-packages/pm4py/utils.py:537: UserWarning: the EventLog class has been deprecated and will be removed in a future release.\n",
      "  warnings.warn(\"the EventLog class has been deprecated and will be removed in a future release.\")\n",
      "parsing log, completed traces :: 100%|██████████| 186/186 [00:00<00:00, 493.09it/s]\n",
      "/Users/ethanjohnson/.local/share/virtualenvs/mphil-project-KaAb4vnI/lib/python3.10/site-packages/pm4py/utils.py:537: UserWarning: the EventLog class has been deprecated and will be removed in a future release.\n",
      "  warnings.warn(\"the EventLog class has been deprecated and will be removed in a future release.\")\n",
      "parsing log, completed traces :: 100%|██████████| 187/187 [00:00<00:00, 470.11it/s]\n",
      "/Users/ethanjohnson/.local/share/virtualenvs/mphil-project-KaAb4vnI/lib/python3.10/site-packages/pm4py/utils.py:537: UserWarning: the EventLog class has been deprecated and will be removed in a future release.\n",
      "  warnings.warn(\"the EventLog class has been deprecated and will be removed in a future release.\")\n",
      "parsing log, completed traces :: 100%|██████████| 189/189 [00:00<00:00, 7431.34it/s]\n",
      "/Users/ethanjohnson/.local/share/virtualenvs/mphil-project-KaAb4vnI/lib/python3.10/site-packages/pm4py/utils.py:537: UserWarning: the EventLog class has been deprecated and will be removed in a future release.\n",
      "  warnings.warn(\"the EventLog class has been deprecated and will be removed in a future release.\")\n",
      "parsing log, completed traces :: 100%|██████████| 187/187 [00:00<00:00, 7883.63it/s]\n",
      "/Users/ethanjohnson/.local/share/virtualenvs/mphil-project-KaAb4vnI/lib/python3.10/site-packages/pm4py/utils.py:537: UserWarning: the EventLog class has been deprecated and will be removed in a future release.\n",
      "  warnings.warn(\"the EventLog class has been deprecated and will be removed in a future release.\")\n"
     ]
    }
   ],
   "source": [
    "# markov chain it between all events\n",
    "\n",
    "\n",
    "mc_IT_all_u = folder_IT_between_mc(u_folder, 30)\n",
    "mc_IT_all_c = folder_IT_between_mc(c_folder, 30)\n"
   ]
  },
  {
   "cell_type": "code",
   "execution_count": 3,
   "metadata": {},
   "outputs": [
    {
     "name": "stderr",
     "output_type": "stream",
     "text": [
      "/Users/ethanjohnson/.local/share/virtualenvs/mphil-project-KaAb4vnI/lib/python3.10/site-packages/pm4py/util/dt_parsing/parser.py:77: UserWarning: ISO8601 strings are not fully supported with strpfromiso for Python versions below 3.11\n",
      "  warnings.warn(\n",
      "/Users/ethanjohnson/.local/share/virtualenvs/mphil-project-KaAb4vnI/lib/python3.10/site-packages/tqdm/auto.py:21: TqdmWarning: IProgress not found. Please update jupyter and ipywidgets. See https://ipywidgets.readthedocs.io/en/stable/user_install.html\n",
      "  from .autonotebook import tqdm as notebook_tqdm\n",
      "parsing log, completed traces :: 100%|██████████| 199/199 [00:00<00:00, 5957.05it/s]\n",
      "/Users/ethanjohnson/.local/share/virtualenvs/mphil-project-KaAb4vnI/lib/python3.10/site-packages/pm4py/utils.py:537: UserWarning: the EventLog class has been deprecated and will be removed in a future release.\n",
      "  warnings.warn(\"the EventLog class has been deprecated and will be removed in a future release.\")\n",
      "parsing log, completed traces :: 100%|██████████| 200/200 [00:00<00:00, 6638.76it/s]\n",
      "/Users/ethanjohnson/.local/share/virtualenvs/mphil-project-KaAb4vnI/lib/python3.10/site-packages/pm4py/utils.py:537: UserWarning: the EventLog class has been deprecated and will be removed in a future release.\n",
      "  warnings.warn(\"the EventLog class has been deprecated and will be removed in a future release.\")\n",
      "parsing log, completed traces :: 100%|██████████| 200/200 [00:00<00:00, 6620.53it/s]\n",
      "/Users/ethanjohnson/.local/share/virtualenvs/mphil-project-KaAb4vnI/lib/python3.10/site-packages/pm4py/utils.py:537: UserWarning: the EventLog class has been deprecated and will be removed in a future release.\n",
      "  warnings.warn(\"the EventLog class has been deprecated and will be removed in a future release.\")\n",
      "parsing log, completed traces :: 100%|██████████| 199/199 [00:00<00:00, 6549.90it/s]\n",
      "/Users/ethanjohnson/.local/share/virtualenvs/mphil-project-KaAb4vnI/lib/python3.10/site-packages/pm4py/utils.py:537: UserWarning: the EventLog class has been deprecated and will be removed in a future release.\n",
      "  warnings.warn(\"the EventLog class has been deprecated and will be removed in a future release.\")\n",
      "parsing log, completed traces :: 100%|██████████| 199/199 [00:00<00:00, 6389.84it/s]\n",
      "/Users/ethanjohnson/.local/share/virtualenvs/mphil-project-KaAb4vnI/lib/python3.10/site-packages/pm4py/utils.py:537: UserWarning: the EventLog class has been deprecated and will be removed in a future release.\n",
      "  warnings.warn(\"the EventLog class has been deprecated and will be removed in a future release.\")\n",
      "parsing log, completed traces :: 100%|██████████| 199/199 [00:00<00:00, 6184.32it/s]\n",
      "/Users/ethanjohnson/.local/share/virtualenvs/mphil-project-KaAb4vnI/lib/python3.10/site-packages/pm4py/utils.py:537: UserWarning: the EventLog class has been deprecated and will be removed in a future release.\n",
      "  warnings.warn(\"the EventLog class has been deprecated and will be removed in a future release.\")\n",
      "parsing log, completed traces :: 100%|██████████| 200/200 [00:00<00:00, 6519.32it/s]\n",
      "/Users/ethanjohnson/.local/share/virtualenvs/mphil-project-KaAb4vnI/lib/python3.10/site-packages/pm4py/utils.py:537: UserWarning: the EventLog class has been deprecated and will be removed in a future release.\n",
      "  warnings.warn(\"the EventLog class has been deprecated and will be removed in a future release.\")\n",
      "parsing log, completed traces :: 100%|██████████| 198/198 [00:00<00:00, 6477.99it/s]\n",
      "/Users/ethanjohnson/.local/share/virtualenvs/mphil-project-KaAb4vnI/lib/python3.10/site-packages/pm4py/utils.py:537: UserWarning: the EventLog class has been deprecated and will be removed in a future release.\n",
      "  warnings.warn(\"the EventLog class has been deprecated and will be removed in a future release.\")\n",
      "parsing log, completed traces :: 100%|██████████| 199/199 [00:00<00:00, 6671.99it/s]\n",
      "/Users/ethanjohnson/.local/share/virtualenvs/mphil-project-KaAb4vnI/lib/python3.10/site-packages/pm4py/utils.py:537: UserWarning: the EventLog class has been deprecated and will be removed in a future release.\n",
      "  warnings.warn(\"the EventLog class has been deprecated and will be removed in a future release.\")\n",
      "parsing log, completed traces :: 100%|██████████| 200/200 [00:00<00:00, 6106.49it/s]\n",
      "/Users/ethanjohnson/.local/share/virtualenvs/mphil-project-KaAb4vnI/lib/python3.10/site-packages/pm4py/utils.py:537: UserWarning: the EventLog class has been deprecated and will be removed in a future release.\n",
      "  warnings.warn(\"the EventLog class has been deprecated and will be removed in a future release.\")\n",
      "parsing log, completed traces :: 100%|██████████| 181/181 [00:00<00:00, 7780.92it/s]\n",
      "/Users/ethanjohnson/.local/share/virtualenvs/mphil-project-KaAb4vnI/lib/python3.10/site-packages/pm4py/utils.py:537: UserWarning: the EventLog class has been deprecated and will be removed in a future release.\n",
      "  warnings.warn(\"the EventLog class has been deprecated and will be removed in a future release.\")\n",
      "parsing log, completed traces :: 100%|██████████| 185/185 [00:00<00:00, 3436.42it/s]\n",
      "/Users/ethanjohnson/.local/share/virtualenvs/mphil-project-KaAb4vnI/lib/python3.10/site-packages/pm4py/utils.py:537: UserWarning: the EventLog class has been deprecated and will be removed in a future release.\n",
      "  warnings.warn(\"the EventLog class has been deprecated and will be removed in a future release.\")\n",
      "parsing log, completed traces :: 100%|██████████| 180/180 [00:00<00:00, 3301.97it/s]\n",
      "/Users/ethanjohnson/.local/share/virtualenvs/mphil-project-KaAb4vnI/lib/python3.10/site-packages/pm4py/utils.py:537: UserWarning: the EventLog class has been deprecated and will be removed in a future release.\n",
      "  warnings.warn(\"the EventLog class has been deprecated and will be removed in a future release.\")\n",
      "parsing log, completed traces :: 100%|██████████| 187/187 [00:00<00:00, 7503.37it/s]\n",
      "/Users/ethanjohnson/.local/share/virtualenvs/mphil-project-KaAb4vnI/lib/python3.10/site-packages/pm4py/utils.py:537: UserWarning: the EventLog class has been deprecated and will be removed in a future release.\n",
      "  warnings.warn(\"the EventLog class has been deprecated and will be removed in a future release.\")\n",
      "parsing log, completed traces :: 100%|██████████| 187/187 [00:00<00:00, 1856.63it/s]\n",
      "/Users/ethanjohnson/.local/share/virtualenvs/mphil-project-KaAb4vnI/lib/python3.10/site-packages/pm4py/utils.py:537: UserWarning: the EventLog class has been deprecated and will be removed in a future release.\n",
      "  warnings.warn(\"the EventLog class has been deprecated and will be removed in a future release.\")\n",
      "parsing log, completed traces :: 100%|██████████| 180/180 [00:00<00:00, 8231.93it/s]\n",
      "/Users/ethanjohnson/.local/share/virtualenvs/mphil-project-KaAb4vnI/lib/python3.10/site-packages/pm4py/utils.py:537: UserWarning: the EventLog class has been deprecated and will be removed in a future release.\n",
      "  warnings.warn(\"the EventLog class has been deprecated and will be removed in a future release.\")\n",
      "parsing log, completed traces :: 100%|██████████| 182/182 [00:00<00:00, 6704.46it/s]\n",
      "/Users/ethanjohnson/.local/share/virtualenvs/mphil-project-KaAb4vnI/lib/python3.10/site-packages/pm4py/utils.py:537: UserWarning: the EventLog class has been deprecated and will be removed in a future release.\n",
      "  warnings.warn(\"the EventLog class has been deprecated and will be removed in a future release.\")\n",
      "parsing log, completed traces :: 100%|██████████| 189/189 [00:00<00:00, 1398.52it/s]\n",
      "/Users/ethanjohnson/.local/share/virtualenvs/mphil-project-KaAb4vnI/lib/python3.10/site-packages/pm4py/utils.py:537: UserWarning: the EventLog class has been deprecated and will be removed in a future release.\n",
      "  warnings.warn(\"the EventLog class has been deprecated and will be removed in a future release.\")\n",
      "parsing log, completed traces :: 100%|██████████| 184/184 [00:00<00:00, 8236.06it/s]\n",
      "/Users/ethanjohnson/.local/share/virtualenvs/mphil-project-KaAb4vnI/lib/python3.10/site-packages/pm4py/utils.py:537: UserWarning: the EventLog class has been deprecated and will be removed in a future release.\n",
      "  warnings.warn(\"the EventLog class has been deprecated and will be removed in a future release.\")\n",
      "parsing log, completed traces :: 100%|██████████| 189/189 [00:00<00:00, 8623.03it/s]\n",
      "/Users/ethanjohnson/.local/share/virtualenvs/mphil-project-KaAb4vnI/lib/python3.10/site-packages/pm4py/utils.py:537: UserWarning: the EventLog class has been deprecated and will be removed in a future release.\n",
      "  warnings.warn(\"the EventLog class has been deprecated and will be removed in a future release.\")\n"
     ]
    }
   ],
   "source": [
    "# markov chain interarrival times between first and last\n",
    "\n",
    "mc_IT_fl_u = folder_IT_firstlast_mc(u_folder, 10)\n",
    "mc_IT_fl_c = folder_IT_firstlast_mc(c_folder, 10)\n"
   ]
  },
  {
   "cell_type": "code",
   "execution_count": 39,
   "metadata": {},
   "outputs": [
    {
     "ename": "TypeError",
     "evalue": "ks_entropy_folder() takes 1 positional argument but 2 were given",
     "output_type": "error",
     "traceback": [
      "\u001b[0;31m---------------------------------------------------------------------------\u001b[0m",
      "\u001b[0;31mTypeError\u001b[0m                                 Traceback (most recent call last)",
      "Cell \u001b[0;32mIn[39], line 3\u001b[0m\n\u001b[1;32m      1\u001b[0m \u001b[38;5;66;03m# kolmogorov-sinai entropy of markov chain\u001b[39;00m\n\u001b[0;32m----> 3\u001b[0m mc_entropy_u \u001b[38;5;241m=\u001b[39m \u001b[43mks_entropy_folder\u001b[49m\u001b[43m(\u001b[49m\u001b[43mu_folder\u001b[49m\u001b[43m,\u001b[49m\u001b[43m \u001b[49m\u001b[38;5;241;43m30\u001b[39;49m\u001b[43m)\u001b[49m\n\u001b[1;32m      4\u001b[0m mc_entropy_c \u001b[38;5;241m=\u001b[39m ks_entropy_folder(c_folder, \u001b[38;5;241m30\u001b[39m)\n",
      "\u001b[0;31mTypeError\u001b[0m: ks_entropy_folder() takes 1 positional argument but 2 were given"
     ]
    }
   ],
   "source": [
    "# kolmogorov-sinai entropy of markov chain\n",
    "\n",
    "mc_entropy_u = ks_entropy_folder(u_folder, 30)\n",
    "mc_entropy_c = ks_entropy_folder(c_folder, 30)"
   ]
  },
  {
   "cell_type": "code",
   "execution_count": 8,
   "metadata": {},
   "outputs": [
    {
     "name": "stderr",
     "output_type": "stream",
     "text": [
      "parsing log, completed traces :: 100%|██████████| 199/199 [00:00<00:00, 6263.73it/s]\n",
      "parsing log, completed traces :: 100%|██████████| 200/200 [00:00<00:00, 6345.39it/s]\n",
      "parsing log, completed traces :: 100%|██████████| 200/200 [00:00<00:00, 6281.39it/s]\n",
      "parsing log, completed traces :: 100%|██████████| 199/199 [00:00<00:00, 6112.94it/s]\n",
      "parsing log, completed traces :: 100%|██████████| 199/199 [00:00<00:00, 4725.72it/s]\n",
      "parsing log, completed traces :: 100%|██████████| 199/199 [00:00<00:00, 5998.67it/s]\n",
      "parsing log, completed traces :: 100%|██████████| 200/200 [00:00<00:00, 6288.12it/s]\n",
      "parsing log, completed traces :: 100%|██████████| 198/198 [00:00<00:00, 6050.05it/s]\n",
      "parsing log, completed traces :: 100%|██████████| 199/199 [00:00<00:00, 6166.36it/s]\n",
      "parsing log, completed traces :: 100%|██████████| 200/200 [00:00<00:00, 5981.52it/s]\n",
      "parsing log, completed traces :: 100%|██████████| 200/200 [00:00<00:00, 6066.48it/s]\n",
      "parsing log, completed traces :: 100%|██████████| 198/198 [00:00<00:00, 4767.18it/s]\n",
      "parsing log, completed traces :: 100%|██████████| 200/200 [00:00<00:00, 4629.81it/s]\n",
      "parsing log, completed traces :: 100%|██████████| 198/198 [00:00<00:00, 6417.57it/s]\n",
      "parsing log, completed traces :: 100%|██████████| 200/200 [00:00<00:00, 6352.21it/s]\n",
      "parsing log, completed traces :: 100%|██████████| 200/200 [00:00<00:00, 6124.68it/s]\n",
      "parsing log, completed traces :: 100%|██████████| 199/199 [00:03<00:00, 52.07it/s]\n",
      "parsing log, completed traces :: 100%|██████████| 200/200 [00:00<00:00, 6032.93it/s]\n",
      "parsing log, completed traces :: 100%|██████████| 200/200 [00:00<00:00, 6061.13it/s]\n",
      "parsing log, completed traces :: 100%|██████████| 200/200 [00:00<00:00, 5905.10it/s]\n",
      "parsing log, completed traces :: 100%|██████████| 199/199 [00:00<00:00, 6007.69it/s]\n",
      "parsing log, completed traces :: 100%|██████████| 199/199 [00:00<00:00, 6138.02it/s]\n",
      "parsing log, completed traces :: 100%|██████████| 200/200 [00:00<00:00, 6301.96it/s]\n",
      "parsing log, completed traces :: 100%|██████████| 200/200 [00:00<00:00, 6068.94it/s]\n",
      "parsing log, completed traces :: 100%|██████████| 199/199 [00:00<00:00, 5953.61it/s]\n",
      "parsing log, completed traces :: 100%|██████████| 200/200 [00:00<00:00, 6037.88it/s]\n",
      "parsing log, completed traces :: 100%|██████████| 199/199 [00:00<00:00, 5989.28it/s]\n",
      "parsing log, completed traces :: 100%|██████████| 200/200 [00:00<00:00, 5918.01it/s]\n",
      "parsing log, completed traces :: 100%|██████████| 200/200 [00:00<00:00, 6332.51it/s]\n",
      "parsing log, completed traces :: 100%|██████████| 200/200 [00:00<00:00, 2991.37it/s]\n",
      "parsing log, completed traces :: 100%|██████████| 181/181 [00:00<00:00, 7876.42it/s]\n",
      "parsing log, completed traces :: 100%|██████████| 185/185 [00:00<00:00, 8540.68it/s]\n",
      "parsing log, completed traces :: 100%|██████████| 180/180 [00:00<00:00, 8521.06it/s]\n",
      "parsing log, completed traces :: 100%|██████████| 187/187 [00:00<00:00, 7425.94it/s]\n",
      "parsing log, completed traces :: 100%|██████████| 187/187 [00:00<00:00, 7829.88it/s]\n",
      "parsing log, completed traces :: 100%|██████████| 180/180 [00:00<00:00, 8088.44it/s]\n",
      "parsing log, completed traces :: 100%|██████████| 182/182 [00:00<00:00, 7944.09it/s]\n",
      "parsing log, completed traces :: 100%|██████████| 189/189 [00:00<00:00, 8065.48it/s]\n",
      "parsing log, completed traces :: 100%|██████████| 184/184 [00:00<00:00, 7928.66it/s]\n",
      "parsing log, completed traces :: 100%|██████████| 189/189 [00:00<00:00, 8202.00it/s]\n",
      "parsing log, completed traces :: 100%|██████████| 181/181 [00:00<00:00, 7857.27it/s]\n",
      "parsing log, completed traces :: 100%|██████████| 191/191 [00:00<00:00, 7968.33it/s]\n",
      "parsing log, completed traces :: 100%|██████████| 186/186 [00:00<00:00, 8040.53it/s]\n",
      "parsing log, completed traces :: 100%|██████████| 188/188 [00:00<00:00, 5528.69it/s]\n",
      "parsing log, completed traces :: 100%|██████████| 187/187 [00:00<00:00, 8146.06it/s]\n",
      "parsing log, completed traces :: 100%|██████████| 186/186 [00:00<00:00, 8123.67it/s]\n",
      "parsing log, completed traces :: 100%|██████████| 186/186 [00:00<00:00, 7669.11it/s]\n",
      "parsing log, completed traces :: 100%|██████████| 185/185 [00:00<00:00, 7822.35it/s]\n",
      "parsing log, completed traces :: 100%|██████████| 186/186 [00:05<00:00, 36.23it/s]\n",
      "parsing log, completed traces :: 100%|██████████| 188/188 [00:00<00:00, 7861.86it/s]\n",
      "parsing log, completed traces :: 100%|██████████| 189/189 [00:00<00:00, 7942.48it/s]\n",
      "parsing log, completed traces :: 100%|██████████| 182/182 [00:00<00:00, 7896.92it/s]\n",
      "parsing log, completed traces :: 100%|██████████| 182/182 [00:00<00:00, 7902.07it/s]\n",
      "parsing log, completed traces :: 100%|██████████| 185/185 [00:00<00:00, 7699.33it/s]\n",
      "parsing log, completed traces :: 100%|██████████| 187/187 [00:00<00:00, 7954.39it/s]\n",
      "parsing log, completed traces :: 100%|██████████| 183/183 [00:00<00:00, 7860.45it/s]\n",
      "parsing log, completed traces :: 100%|██████████| 186/186 [00:00<00:00, 7691.04it/s]\n",
      "parsing log, completed traces :: 100%|██████████| 187/187 [00:00<00:00, 7725.08it/s]\n",
      "parsing log, completed traces :: 100%|██████████| 189/189 [00:00<00:00, 7936.92it/s]\n",
      "parsing log, completed traces :: 100%|██████████| 187/187 [00:04<00:00, 41.21it/s]\n"
     ]
    }
   ],
   "source": [
    "# density of markov chain\n",
    "\n",
    "mc_density_u = density_folder_mc(u_folder, 30)\n",
    "mc_density_c = density_folder_mc(c_folder, 30)\n"
   ]
  },
  {
   "cell_type": "code",
   "execution_count": 24,
   "metadata": {},
   "outputs": [
    {
     "name": "stderr",
     "output_type": "stream",
     "text": [
      "parsing log, completed traces :: 100%|██████████| 199/199 [00:00<00:00, 5698.74it/s]\n",
      "/Users/ethanjohnson/.local/share/virtualenvs/mphil-project-KaAb4vnI/lib/python3.10/site-packages/pm4py/utils.py:537: UserWarning: the EventLog class has been deprecated and will be removed in a future release.\n",
      "  warnings.warn(\"the EventLog class has been deprecated and will be removed in a future release.\")\n"
     ]
    },
    {
     "name": "stdout",
     "output_type": "stream",
     "text": [
      "discovering...\n"
     ]
    },
    {
     "name": "stderr",
     "output_type": "stream",
     "text": [
      "replaying log with TBR, completed variants :: 100%|██████████| 126/126 [00:00<00:00, 605.11it/s]\n",
      "parsing log, completed traces :: 100%|██████████| 200/200 [00:00<00:00, 6415.61it/s]\n"
     ]
    },
    {
     "name": "stdout",
     "output_type": "stream",
     "text": [
      "discovering...\n"
     ]
    },
    {
     "name": "stderr",
     "output_type": "stream",
     "text": [
      "replaying log with TBR, completed variants :: 100%|██████████| 121/121 [00:00<00:00, 586.27it/s]\n",
      "parsing log, completed traces :: 100%|██████████| 200/200 [00:00<00:00, 6391.17it/s]\n"
     ]
    },
    {
     "name": "stdout",
     "output_type": "stream",
     "text": [
      "discovering...\n"
     ]
    },
    {
     "name": "stderr",
     "output_type": "stream",
     "text": [
      "replaying log with TBR, completed variants :: 100%|██████████| 120/120 [00:00<00:00, 553.10it/s]\n",
      "parsing log, completed traces :: 100%|██████████| 199/199 [00:00<00:00, 6403.47it/s]\n"
     ]
    },
    {
     "name": "stdout",
     "output_type": "stream",
     "text": [
      "discovering...\n"
     ]
    },
    {
     "name": "stderr",
     "output_type": "stream",
     "text": [
      "replaying log with TBR, completed variants :: 100%|██████████| 115/115 [00:00<00:00, 669.98it/s]\n",
      "parsing log, completed traces :: 100%|██████████| 199/199 [00:00<00:00, 6282.02it/s]\n"
     ]
    },
    {
     "name": "stdout",
     "output_type": "stream",
     "text": [
      "discovering...\n"
     ]
    },
    {
     "name": "stderr",
     "output_type": "stream",
     "text": [
      "replaying log with TBR, completed variants :: 100%|██████████| 124/124 [00:00<00:00, 592.36it/s]\n",
      "parsing log, completed traces :: 100%|██████████| 199/199 [00:00<00:00, 6029.43it/s]\n"
     ]
    },
    {
     "name": "stdout",
     "output_type": "stream",
     "text": [
      "discovering...\n"
     ]
    },
    {
     "name": "stderr",
     "output_type": "stream",
     "text": [
      "replaying log with TBR, completed variants :: 100%|██████████| 127/127 [00:00<00:00, 536.99it/s]\n",
      "parsing log, completed traces :: 100%|██████████| 200/200 [00:00<00:00, 6519.78it/s]\n"
     ]
    },
    {
     "name": "stdout",
     "output_type": "stream",
     "text": [
      "discovering...\n"
     ]
    },
    {
     "name": "stderr",
     "output_type": "stream",
     "text": [
      "replaying log with TBR, completed variants :: 100%|██████████| 126/126 [00:00<00:00, 573.82it/s]\n",
      "parsing log, completed traces :: 100%|██████████| 198/198 [00:00<00:00, 6578.10it/s]\n"
     ]
    },
    {
     "name": "stdout",
     "output_type": "stream",
     "text": [
      "discovering...\n"
     ]
    },
    {
     "name": "stderr",
     "output_type": "stream",
     "text": [
      "replaying log with TBR, completed variants :: 100%|██████████| 127/127 [00:00<00:00, 610.26it/s]\n",
      "parsing log, completed traces :: 100%|██████████| 199/199 [00:00<00:00, 6691.36it/s]\n"
     ]
    },
    {
     "name": "stdout",
     "output_type": "stream",
     "text": [
      "discovering...\n"
     ]
    },
    {
     "name": "stderr",
     "output_type": "stream",
     "text": [
      "replaying log with TBR, completed variants :: 100%|██████████| 122/122 [00:00<00:00, 639.49it/s]\n",
      "parsing log, completed traces :: 100%|██████████| 200/200 [00:00<00:00, 6364.17it/s]\n"
     ]
    },
    {
     "name": "stdout",
     "output_type": "stream",
     "text": [
      "discovering...\n"
     ]
    },
    {
     "name": "stderr",
     "output_type": "stream",
     "text": [
      "replaying log with TBR, completed variants :: 100%|██████████| 123/123 [00:00<00:00, 540.44it/s]\n",
      "parsing log, completed traces :: 100%|██████████| 200/200 [00:00<00:00, 6524.44it/s]\n"
     ]
    },
    {
     "name": "stdout",
     "output_type": "stream",
     "text": [
      "discovering...\n"
     ]
    },
    {
     "name": "stderr",
     "output_type": "stream",
     "text": [
      "replaying log with TBR, completed variants :: 100%|██████████| 119/119 [00:00<00:00, 619.52it/s]\n",
      "parsing log, completed traces :: 100%|██████████| 198/198 [00:00<00:00, 6552.62it/s]\n"
     ]
    },
    {
     "name": "stdout",
     "output_type": "stream",
     "text": [
      "discovering...\n"
     ]
    },
    {
     "name": "stderr",
     "output_type": "stream",
     "text": [
      "replaying log with TBR, completed variants :: 100%|██████████| 132/132 [00:00<00:00, 503.74it/s]\n",
      "parsing log, completed traces :: 100%|██████████| 200/200 [00:00<00:00, 6669.11it/s]\n"
     ]
    },
    {
     "name": "stdout",
     "output_type": "stream",
     "text": [
      "discovering...\n"
     ]
    },
    {
     "name": "stderr",
     "output_type": "stream",
     "text": [
      "replaying log with TBR, completed variants :: 100%|██████████| 126/126 [00:00<00:00, 652.30it/s]\n",
      "parsing log, completed traces :: 100%|██████████| 198/198 [00:00<00:00, 761.12it/s]\n"
     ]
    },
    {
     "name": "stdout",
     "output_type": "stream",
     "text": [
      "discovering...\n"
     ]
    },
    {
     "name": "stderr",
     "output_type": "stream",
     "text": [
      "replaying log with TBR, completed variants :: 100%|██████████| 110/110 [00:00<00:00, 675.60it/s]\n",
      "parsing log, completed traces :: 100%|██████████| 200/200 [00:00<00:00, 6559.75it/s]\n"
     ]
    },
    {
     "name": "stdout",
     "output_type": "stream",
     "text": [
      "discovering...\n"
     ]
    },
    {
     "name": "stderr",
     "output_type": "stream",
     "text": [
      "replaying log with TBR, completed variants :: 100%|██████████| 119/119 [00:00<00:00, 605.18it/s]\n",
      "parsing log, completed traces :: 100%|██████████| 200/200 [00:00<00:00, 6262.30it/s]\n"
     ]
    },
    {
     "name": "stdout",
     "output_type": "stream",
     "text": [
      "discovering...\n"
     ]
    },
    {
     "name": "stderr",
     "output_type": "stream",
     "text": [
      "replaying log with TBR, completed variants :: 100%|██████████| 121/121 [00:00<00:00, 642.28it/s]\n",
      "parsing log, completed traces :: 100%|██████████| 199/199 [00:00<00:00, 6472.99it/s]\n"
     ]
    },
    {
     "name": "stdout",
     "output_type": "stream",
     "text": [
      "discovering...\n"
     ]
    },
    {
     "name": "stderr",
     "output_type": "stream",
     "text": [
      "replaying log with TBR, completed variants :: 100%|██████████| 126/126 [00:00<00:00, 617.87it/s]\n",
      "parsing log, completed traces :: 100%|██████████| 200/200 [00:00<00:00, 6318.29it/s]\n"
     ]
    },
    {
     "name": "stdout",
     "output_type": "stream",
     "text": [
      "discovering...\n"
     ]
    },
    {
     "name": "stderr",
     "output_type": "stream",
     "text": [
      "replaying log with TBR, completed variants :: 100%|██████████| 122/122 [00:00<00:00, 580.72it/s]\n",
      "parsing log, completed traces :: 100%|██████████| 200/200 [00:00<00:00, 6172.68it/s]\n"
     ]
    },
    {
     "name": "stdout",
     "output_type": "stream",
     "text": [
      "discovering...\n"
     ]
    },
    {
     "name": "stderr",
     "output_type": "stream",
     "text": [
      "replaying log with TBR, completed variants :: 100%|██████████| 117/117 [00:00<00:00, 648.53it/s]\n",
      "parsing log, completed traces :: 100%|██████████| 200/200 [00:00<00:00, 6294.07it/s]\n"
     ]
    },
    {
     "name": "stdout",
     "output_type": "stream",
     "text": [
      "discovering...\n"
     ]
    },
    {
     "name": "stderr",
     "output_type": "stream",
     "text": [
      "replaying log with TBR, completed variants :: 100%|██████████| 112/112 [00:00<00:00, 663.17it/s]\n",
      "parsing log, completed traces :: 100%|██████████| 199/199 [00:00<00:00, 6140.23it/s]\n"
     ]
    },
    {
     "name": "stdout",
     "output_type": "stream",
     "text": [
      "discovering...\n"
     ]
    },
    {
     "name": "stderr",
     "output_type": "stream",
     "text": [
      "replaying log with TBR, completed variants :: 100%|██████████| 125/125 [00:00<00:00, 541.72it/s]\n",
      "parsing log, completed traces :: 100%|██████████| 199/199 [00:00<00:00, 6171.10it/s]\n"
     ]
    },
    {
     "name": "stdout",
     "output_type": "stream",
     "text": [
      "discovering...\n"
     ]
    },
    {
     "name": "stderr",
     "output_type": "stream",
     "text": [
      "replaying log with TBR, completed variants :: 100%|██████████| 127/127 [00:00<00:00, 587.44it/s]\n",
      "parsing log, completed traces :: 100%|██████████| 200/200 [00:00<00:00, 6427.56it/s]\n"
     ]
    },
    {
     "name": "stdout",
     "output_type": "stream",
     "text": [
      "discovering...\n"
     ]
    },
    {
     "name": "stderr",
     "output_type": "stream",
     "text": [
      "replaying log with TBR, completed variants :: 100%|██████████| 124/124 [00:00<00:00, 566.35it/s]\n",
      "parsing log, completed traces :: 100%|██████████| 200/200 [00:00<00:00, 6147.44it/s]\n"
     ]
    },
    {
     "name": "stdout",
     "output_type": "stream",
     "text": [
      "discovering...\n"
     ]
    },
    {
     "name": "stderr",
     "output_type": "stream",
     "text": [
      "replaying log with TBR, completed variants :: 100%|██████████| 126/126 [00:00<00:00, 561.19it/s]\n",
      "parsing log, completed traces :: 100%|██████████| 199/199 [00:00<00:00, 6165.59it/s]\n"
     ]
    },
    {
     "name": "stdout",
     "output_type": "stream",
     "text": [
      "discovering...\n"
     ]
    },
    {
     "name": "stderr",
     "output_type": "stream",
     "text": [
      "replaying log with TBR, completed variants :: 100%|██████████| 129/129 [00:00<00:00, 576.57it/s]\n",
      "parsing log, completed traces :: 100%|██████████| 200/200 [00:00<00:00, 6237.02it/s]\n"
     ]
    },
    {
     "name": "stdout",
     "output_type": "stream",
     "text": [
      "discovering...\n"
     ]
    },
    {
     "name": "stderr",
     "output_type": "stream",
     "text": [
      "replaying log with TBR, completed variants :: 100%|██████████| 128/128 [00:00<00:00, 581.47it/s]\n",
      "parsing log, completed traces :: 100%|██████████| 199/199 [00:00<00:00, 6410.65it/s]\n"
     ]
    },
    {
     "name": "stdout",
     "output_type": "stream",
     "text": [
      "discovering...\n"
     ]
    },
    {
     "name": "stderr",
     "output_type": "stream",
     "text": [
      "replaying log with TBR, completed variants :: 100%|██████████| 122/122 [00:00<00:00, 606.51it/s]\n",
      "parsing log, completed traces :: 100%|██████████| 200/200 [00:00<00:00, 6235.17it/s]\n"
     ]
    },
    {
     "name": "stdout",
     "output_type": "stream",
     "text": [
      "discovering...\n"
     ]
    },
    {
     "name": "stderr",
     "output_type": "stream",
     "text": [
      "replaying log with TBR, completed variants :: 100%|██████████| 122/122 [00:00<00:00, 619.99it/s]\n",
      "parsing log, completed traces :: 100%|██████████| 200/200 [00:00<00:00, 6534.25it/s]\n"
     ]
    },
    {
     "name": "stdout",
     "output_type": "stream",
     "text": [
      "discovering...\n"
     ]
    },
    {
     "name": "stderr",
     "output_type": "stream",
     "text": [
      "replaying log with TBR, completed variants :: 100%|██████████| 126/126 [00:00<00:00, 609.94it/s]\n",
      "parsing log, completed traces :: 100%|██████████| 200/200 [00:00<00:00, 6319.96it/s]\n"
     ]
    },
    {
     "name": "stdout",
     "output_type": "stream",
     "text": [
      "discovering...\n"
     ]
    },
    {
     "name": "stderr",
     "output_type": "stream",
     "text": [
      "replaying log with TBR, completed variants :: 100%|██████████| 119/119 [00:00<00:00, 590.55it/s]\n",
      "parsing log, completed traces :: 100%|██████████| 181/181 [00:00<00:00, 7948.75it/s]\n"
     ]
    },
    {
     "name": "stdout",
     "output_type": "stream",
     "text": [
      "discovering...\n"
     ]
    },
    {
     "name": "stderr",
     "output_type": "stream",
     "text": [
      "replaying log with TBR, completed variants :: 100%|██████████| 85/85 [00:00<00:00, 1218.58it/s]\n",
      "parsing log, completed traces :: 100%|██████████| 185/185 [00:00<00:00, 8930.73it/s]\n"
     ]
    },
    {
     "name": "stdout",
     "output_type": "stream",
     "text": [
      "discovering...\n"
     ]
    },
    {
     "name": "stderr",
     "output_type": "stream",
     "text": [
      "replaying log with TBR, completed variants :: 100%|██████████| 69/69 [00:00<00:00, 1352.91it/s]\n",
      "parsing log, completed traces :: 100%|██████████| 180/180 [00:00<00:00, 8066.66it/s]\n"
     ]
    },
    {
     "name": "stdout",
     "output_type": "stream",
     "text": [
      "discovering...\n"
     ]
    },
    {
     "name": "stderr",
     "output_type": "stream",
     "text": [
      "replaying log with TBR, completed variants :: 100%|██████████| 79/79 [00:00<00:00, 854.00it/s]\n",
      "parsing log, completed traces :: 100%|██████████| 187/187 [00:00<00:00, 7539.72it/s]\n"
     ]
    },
    {
     "name": "stdout",
     "output_type": "stream",
     "text": [
      "discovering...\n"
     ]
    },
    {
     "name": "stderr",
     "output_type": "stream",
     "text": [
      "replaying log with TBR, completed variants :: 100%|██████████| 103/103 [00:00<00:00, 814.91it/s]\n",
      "parsing log, completed traces :: 100%|██████████| 187/187 [00:00<00:00, 8062.49it/s]\n"
     ]
    },
    {
     "name": "stdout",
     "output_type": "stream",
     "text": [
      "discovering...\n"
     ]
    },
    {
     "name": "stderr",
     "output_type": "stream",
     "text": [
      "replaying log with TBR, completed variants :: 100%|██████████| 87/87 [00:00<00:00, 1146.94it/s]\n",
      "parsing log, completed traces :: 100%|██████████| 180/180 [00:00<00:00, 8538.89it/s]\n"
     ]
    },
    {
     "name": "stdout",
     "output_type": "stream",
     "text": [
      "discovering...\n"
     ]
    },
    {
     "name": "stderr",
     "output_type": "stream",
     "text": [
      "replaying log with TBR, completed variants :: 100%|██████████| 80/80 [00:00<00:00, 1272.24it/s]\n",
      "parsing log, completed traces :: 100%|██████████| 182/182 [00:00<00:00, 7885.90it/s]\n"
     ]
    },
    {
     "name": "stdout",
     "output_type": "stream",
     "text": [
      "discovering...\n"
     ]
    },
    {
     "name": "stderr",
     "output_type": "stream",
     "text": [
      "replaying log with TBR, completed variants :: 100%|██████████| 85/85 [00:00<00:00, 1143.63it/s]\n",
      "parsing log, completed traces :: 100%|██████████| 189/189 [00:00<00:00, 8154.33it/s]\n"
     ]
    },
    {
     "name": "stdout",
     "output_type": "stream",
     "text": [
      "discovering...\n"
     ]
    },
    {
     "name": "stderr",
     "output_type": "stream",
     "text": [
      "replaying log with TBR, completed variants :: 100%|██████████| 83/83 [00:00<00:00, 1182.37it/s]\n",
      "parsing log, completed traces :: 100%|██████████| 184/184 [00:00<00:00, 8113.63it/s]\n"
     ]
    },
    {
     "name": "stdout",
     "output_type": "stream",
     "text": [
      "discovering...\n"
     ]
    },
    {
     "name": "stderr",
     "output_type": "stream",
     "text": [
      "replaying log with TBR, completed variants :: 100%|██████████| 83/83 [00:00<00:00, 1324.80it/s]\n",
      "parsing log, completed traces :: 100%|██████████| 189/189 [00:00<00:00, 8272.44it/s]\n"
     ]
    },
    {
     "name": "stdout",
     "output_type": "stream",
     "text": [
      "discovering...\n"
     ]
    },
    {
     "name": "stderr",
     "output_type": "stream",
     "text": [
      "replaying log with TBR, completed variants :: 100%|██████████| 84/84 [00:00<00:00, 1305.01it/s]\n",
      "parsing log, completed traces :: 100%|██████████| 181/181 [00:00<00:00, 7985.54it/s]\n"
     ]
    },
    {
     "name": "stdout",
     "output_type": "stream",
     "text": [
      "discovering...\n"
     ]
    },
    {
     "name": "stderr",
     "output_type": "stream",
     "text": [
      "replaying log with TBR, completed variants :: 100%|██████████| 80/80 [00:00<00:00, 1297.92it/s]\n",
      "parsing log, completed traces :: 100%|██████████| 191/191 [00:00<00:00, 8188.99it/s]\n"
     ]
    },
    {
     "name": "stdout",
     "output_type": "stream",
     "text": [
      "discovering...\n"
     ]
    },
    {
     "name": "stderr",
     "output_type": "stream",
     "text": [
      "replaying log with TBR, completed variants :: 100%|██████████| 91/91 [00:00<00:00, 1164.90it/s]\n",
      "parsing log, completed traces :: 100%|██████████| 186/186 [00:00<00:00, 7984.49it/s]"
     ]
    },
    {
     "name": "stdout",
     "output_type": "stream",
     "text": [
      "discovering...\n"
     ]
    },
    {
     "name": "stderr",
     "output_type": "stream",
     "text": [
      "\n",
      "replaying log with TBR, completed variants :: 100%|██████████| 90/90 [00:00<00:00, 1299.37it/s]\n",
      "parsing log, completed traces :: 100%|██████████| 188/188 [00:00<00:00, 7744.57it/s]\n"
     ]
    },
    {
     "name": "stdout",
     "output_type": "stream",
     "text": [
      "discovering...\n"
     ]
    },
    {
     "name": "stderr",
     "output_type": "stream",
     "text": [
      "replaying log with TBR, completed variants :: 100%|██████████| 97/97 [00:00<00:00, 1218.44it/s]\n",
      "parsing log, completed traces :: 100%|██████████| 187/187 [00:00<00:00, 8368.74it/s]\n"
     ]
    },
    {
     "name": "stdout",
     "output_type": "stream",
     "text": [
      "discovering...\n"
     ]
    },
    {
     "name": "stderr",
     "output_type": "stream",
     "text": [
      "replaying log with TBR, completed variants :: 100%|██████████| 80/80 [00:00<00:00, 1267.65it/s]\n",
      "parsing log, completed traces :: 100%|██████████| 186/186 [00:00<00:00, 8282.10it/s]\n"
     ]
    },
    {
     "name": "stdout",
     "output_type": "stream",
     "text": [
      "discovering...\n"
     ]
    },
    {
     "name": "stderr",
     "output_type": "stream",
     "text": [
      "replaying log with TBR, completed variants :: 100%|██████████| 72/72 [00:00<00:00, 869.54it/s]\n",
      "parsing log, completed traces :: 100%|██████████| 186/186 [00:00<00:00, 7856.48it/s]\n"
     ]
    },
    {
     "name": "stdout",
     "output_type": "stream",
     "text": [
      "discovering...\n"
     ]
    },
    {
     "name": "stderr",
     "output_type": "stream",
     "text": [
      "replaying log with TBR, completed variants :: 100%|██████████| 96/96 [00:00<00:00, 1009.53it/s]\n",
      "parsing log, completed traces :: 100%|██████████| 185/185 [00:00<00:00, 7998.95it/s]\n"
     ]
    },
    {
     "name": "stdout",
     "output_type": "stream",
     "text": [
      "discovering...\n"
     ]
    },
    {
     "name": "stderr",
     "output_type": "stream",
     "text": [
      "replaying log with TBR, completed variants :: 100%|██████████| 81/81 [00:00<00:00, 1467.53it/s]\n",
      "parsing log, completed traces :: 100%|██████████| 186/186 [00:00<00:00, 8235.59it/s]\n"
     ]
    },
    {
     "name": "stdout",
     "output_type": "stream",
     "text": [
      "discovering...\n"
     ]
    },
    {
     "name": "stderr",
     "output_type": "stream",
     "text": [
      "replaying log with TBR, completed variants :: 100%|██████████| 81/81 [00:00<00:00, 1444.26it/s]\n",
      "parsing log, completed traces :: 100%|██████████| 188/188 [00:00<00:00, 8060.28it/s]\n"
     ]
    },
    {
     "name": "stdout",
     "output_type": "stream",
     "text": [
      "discovering...\n"
     ]
    },
    {
     "name": "stderr",
     "output_type": "stream",
     "text": [
      "replaying log with TBR, completed variants :: 100%|██████████| 85/85 [00:00<00:00, 1095.39it/s]\n",
      "parsing log, completed traces :: 100%|██████████| 189/189 [00:00<00:00, 7940.50it/s]\n"
     ]
    },
    {
     "name": "stdout",
     "output_type": "stream",
     "text": [
      "discovering...\n"
     ]
    },
    {
     "name": "stderr",
     "output_type": "stream",
     "text": [
      "replaying log with TBR, completed variants :: 100%|██████████| 88/88 [00:00<00:00, 286.23it/s]\n",
      "parsing log, completed traces :: 100%|██████████| 182/182 [00:00<00:00, 8363.98it/s]\n"
     ]
    },
    {
     "name": "stdout",
     "output_type": "stream",
     "text": [
      "discovering...\n"
     ]
    },
    {
     "name": "stderr",
     "output_type": "stream",
     "text": [
      "replaying log with TBR, completed variants :: 100%|██████████| 81/81 [00:00<00:00, 961.80it/s]\n",
      "parsing log, completed traces :: 100%|██████████| 182/182 [00:00<00:00, 8197.72it/s]\n"
     ]
    },
    {
     "name": "stdout",
     "output_type": "stream",
     "text": [
      "discovering...\n"
     ]
    },
    {
     "name": "stderr",
     "output_type": "stream",
     "text": [
      "replaying log with TBR, completed variants :: 100%|██████████| 81/81 [00:00<00:00, 1519.59it/s]\n",
      "parsing log, completed traces :: 100%|██████████| 185/185 [00:00<00:00, 8000.02it/s]\n"
     ]
    },
    {
     "name": "stdout",
     "output_type": "stream",
     "text": [
      "discovering...\n"
     ]
    },
    {
     "name": "stderr",
     "output_type": "stream",
     "text": [
      "replaying log with TBR, completed variants :: 100%|██████████| 85/85 [00:00<00:00, 1190.24it/s]\n",
      "parsing log, completed traces :: 100%|██████████| 187/187 [00:00<00:00, 8208.63it/s]\n"
     ]
    },
    {
     "name": "stdout",
     "output_type": "stream",
     "text": [
      "discovering...\n"
     ]
    },
    {
     "name": "stderr",
     "output_type": "stream",
     "text": [
      "replaying log with TBR, completed variants :: 100%|██████████| 93/93 [00:00<00:00, 1041.90it/s]\n",
      "parsing log, completed traces :: 100%|██████████| 183/183 [00:00<00:00, 7996.14it/s]\n"
     ]
    },
    {
     "name": "stdout",
     "output_type": "stream",
     "text": [
      "discovering...\n"
     ]
    },
    {
     "name": "stderr",
     "output_type": "stream",
     "text": [
      "replaying log with TBR, completed variants :: 100%|██████████| 80/80 [00:00<00:00, 1324.33it/s]\n",
      "parsing log, completed traces :: 100%|██████████| 186/186 [00:00<00:00, 7876.71it/s]\n"
     ]
    },
    {
     "name": "stdout",
     "output_type": "stream",
     "text": [
      "discovering...\n"
     ]
    },
    {
     "name": "stderr",
     "output_type": "stream",
     "text": [
      "replaying log with TBR, completed variants :: 100%|██████████| 87/87 [00:00<00:00, 860.94it/s]\n",
      "parsing log, completed traces :: 100%|██████████| 187/187 [00:00<00:00, 8142.84it/s]\n"
     ]
    },
    {
     "name": "stdout",
     "output_type": "stream",
     "text": [
      "discovering...\n"
     ]
    },
    {
     "name": "stderr",
     "output_type": "stream",
     "text": [
      "replaying log with TBR, completed variants :: 100%|██████████| 89/89 [00:00<00:00, 1270.96it/s]\n",
      "parsing log, completed traces :: 100%|██████████| 189/189 [00:00<00:00, 8262.96it/s]\n"
     ]
    },
    {
     "name": "stdout",
     "output_type": "stream",
     "text": [
      "discovering...\n"
     ]
    },
    {
     "name": "stderr",
     "output_type": "stream",
     "text": [
      "replaying log with TBR, completed variants :: 100%|██████████| 84/84 [00:00<00:00, 1306.06it/s]\n",
      "parsing log, completed traces :: 100%|██████████| 187/187 [00:00<00:00, 8247.39it/s]\n"
     ]
    },
    {
     "name": "stdout",
     "output_type": "stream",
     "text": [
      "discovering...\n"
     ]
    },
    {
     "name": "stderr",
     "output_type": "stream",
     "text": [
      "replaying log with TBR, completed variants :: 100%|██████████| 84/84 [00:00<00:00, 1014.46it/s]\n"
     ]
    }
   ],
   "source": [
    "# it between all events pn\n",
    "pn_IT_all_u = folder_IT_between_pn(u_folder, 30)\n",
    "pn_IT_all_c = folder_IT_between_pn(c_folder, 30)\n",
    "\n"
   ]
  },
  {
   "cell_type": "code",
   "execution_count": 4,
   "metadata": {},
   "outputs": [
    {
     "name": "stderr",
     "output_type": "stream",
     "text": [
      "parsing log, completed traces :: 100%|██████████| 199/199 [00:00<00:00, 6159.26it/s]\n",
      "/Users/ethanjohnson/.local/share/virtualenvs/mphil-project-KaAb4vnI/lib/python3.10/site-packages/pm4py/utils.py:537: UserWarning: the EventLog class has been deprecated and will be removed in a future release.\n",
      "  warnings.warn(\"the EventLog class has been deprecated and will be removed in a future release.\")\n"
     ]
    },
    {
     "name": "stdout",
     "output_type": "stream",
     "text": [
      "discovering...\n"
     ]
    },
    {
     "name": "stderr",
     "output_type": "stream",
     "text": [
      "replaying log with TBR, completed variants :: 100%|██████████| 126/126 [00:00<00:00, 593.75it/s]\n",
      "parsing log, completed traces :: 100%|██████████| 200/200 [00:00<00:00, 6436.44it/s]\n"
     ]
    },
    {
     "name": "stdout",
     "output_type": "stream",
     "text": [
      "discovering...\n"
     ]
    },
    {
     "name": "stderr",
     "output_type": "stream",
     "text": [
      "replaying log with TBR, completed variants :: 100%|██████████| 121/121 [00:00<00:00, 564.62it/s]\n",
      "parsing log, completed traces :: 100%|██████████| 200/200 [00:00<00:00, 6120.53it/s]\n"
     ]
    },
    {
     "name": "stdout",
     "output_type": "stream",
     "text": [
      "discovering...\n"
     ]
    },
    {
     "name": "stderr",
     "output_type": "stream",
     "text": [
      "replaying log with TBR, completed variants :: 100%|██████████| 120/120 [00:00<00:00, 608.75it/s]\n",
      "parsing log, completed traces :: 100%|██████████| 199/199 [00:00<00:00, 6351.91it/s]\n"
     ]
    },
    {
     "name": "stdout",
     "output_type": "stream",
     "text": [
      "discovering...\n"
     ]
    },
    {
     "name": "stderr",
     "output_type": "stream",
     "text": [
      "replaying log with TBR, completed variants :: 100%|██████████| 115/115 [00:00<00:00, 656.67it/s]\n",
      "parsing log, completed traces :: 100%|██████████| 199/199 [00:00<00:00, 6146.34it/s]\n"
     ]
    },
    {
     "name": "stdout",
     "output_type": "stream",
     "text": [
      "discovering...\n"
     ]
    },
    {
     "name": "stderr",
     "output_type": "stream",
     "text": [
      "replaying log with TBR, completed variants :: 100%|██████████| 124/124 [00:00<00:00, 580.04it/s]\n",
      "parsing log, completed traces :: 100%|██████████| 199/199 [00:00<00:00, 3773.44it/s]\n"
     ]
    },
    {
     "name": "stdout",
     "output_type": "stream",
     "text": [
      "discovering...\n"
     ]
    },
    {
     "name": "stderr",
     "output_type": "stream",
     "text": [
      "replaying log with TBR, completed variants :: 100%|██████████| 127/127 [00:00<00:00, 531.94it/s]\n",
      "parsing log, completed traces :: 100%|██████████| 200/200 [00:00<00:00, 6435.45it/s]\n"
     ]
    },
    {
     "name": "stdout",
     "output_type": "stream",
     "text": [
      "discovering...\n"
     ]
    },
    {
     "name": "stderr",
     "output_type": "stream",
     "text": [
      "replaying log with TBR, completed variants :: 100%|██████████| 126/126 [00:00<00:00, 557.66it/s]\n",
      "parsing log, completed traces :: 100%|██████████| 198/198 [00:00<00:00, 6179.43it/s]\n"
     ]
    },
    {
     "name": "stdout",
     "output_type": "stream",
     "text": [
      "discovering...\n"
     ]
    },
    {
     "name": "stderr",
     "output_type": "stream",
     "text": [
      "replaying log with TBR, completed variants :: 100%|██████████| 127/127 [00:00<00:00, 593.00it/s]\n",
      "parsing log, completed traces :: 100%|██████████| 199/199 [00:00<00:00, 6451.63it/s]\n"
     ]
    },
    {
     "name": "stdout",
     "output_type": "stream",
     "text": [
      "discovering...\n"
     ]
    },
    {
     "name": "stderr",
     "output_type": "stream",
     "text": [
      "replaying log with TBR, completed variants :: 100%|██████████| 122/122 [00:00<00:00, 622.41it/s]\n",
      "parsing log, completed traces :: 100%|██████████| 200/200 [00:00<00:00, 6021.58it/s]\n"
     ]
    },
    {
     "name": "stdout",
     "output_type": "stream",
     "text": [
      "discovering...\n"
     ]
    },
    {
     "name": "stderr",
     "output_type": "stream",
     "text": [
      "replaying log with TBR, completed variants :: 100%|██████████| 123/123 [00:00<00:00, 533.33it/s]\n",
      "parsing log, completed traces :: 100%|██████████| 200/200 [00:00<00:00, 6101.07it/s]\n"
     ]
    },
    {
     "name": "stdout",
     "output_type": "stream",
     "text": [
      "discovering...\n"
     ]
    },
    {
     "name": "stderr",
     "output_type": "stream",
     "text": [
      "replaying log with TBR, completed variants :: 100%|██████████| 119/119 [00:00<00:00, 602.26it/s]\n",
      "parsing log, completed traces :: 100%|██████████| 198/198 [00:00<00:00, 6269.42it/s]\n"
     ]
    },
    {
     "name": "stdout",
     "output_type": "stream",
     "text": [
      "discovering...\n"
     ]
    },
    {
     "name": "stderr",
     "output_type": "stream",
     "text": [
      "replaying log with TBR, completed variants :: 100%|██████████| 132/132 [00:00<00:00, 564.05it/s]\n",
      "parsing log, completed traces :: 100%|██████████| 200/200 [00:00<00:00, 6385.97it/s]\n"
     ]
    },
    {
     "name": "stdout",
     "output_type": "stream",
     "text": [
      "discovering...\n"
     ]
    },
    {
     "name": "stderr",
     "output_type": "stream",
     "text": [
      "replaying log with TBR, completed variants :: 100%|██████████| 126/126 [00:00<00:00, 639.79it/s]\n",
      "parsing log, completed traces :: 100%|██████████| 198/198 [00:00<00:00, 6362.65it/s]\n"
     ]
    },
    {
     "name": "stdout",
     "output_type": "stream",
     "text": [
      "discovering...\n"
     ]
    },
    {
     "name": "stderr",
     "output_type": "stream",
     "text": [
      "replaying log with TBR, completed variants :: 100%|██████████| 110/110 [00:00<00:00, 663.24it/s]\n",
      "parsing log, completed traces :: 100%|██████████| 200/200 [00:00<00:00, 6198.49it/s]\n"
     ]
    },
    {
     "name": "stdout",
     "output_type": "stream",
     "text": [
      "discovering...\n"
     ]
    },
    {
     "name": "stderr",
     "output_type": "stream",
     "text": [
      "replaying log with TBR, completed variants :: 100%|██████████| 119/119 [00:00<00:00, 594.11it/s]\n",
      "parsing log, completed traces :: 100%|██████████| 200/200 [00:00<00:00, 6170.91it/s]\n"
     ]
    },
    {
     "name": "stdout",
     "output_type": "stream",
     "text": [
      "discovering...\n"
     ]
    },
    {
     "name": "stderr",
     "output_type": "stream",
     "text": [
      "replaying log with TBR, completed variants :: 100%|██████████| 121/121 [00:00<00:00, 649.07it/s]\n",
      "parsing log, completed traces :: 100%|██████████| 199/199 [00:00<00:00, 6278.76it/s]\n"
     ]
    },
    {
     "name": "stdout",
     "output_type": "stream",
     "text": [
      "discovering...\n"
     ]
    },
    {
     "name": "stderr",
     "output_type": "stream",
     "text": [
      "replaying log with TBR, completed variants :: 100%|██████████| 126/126 [00:00<00:00, 609.86it/s]\n",
      "parsing log, completed traces :: 100%|██████████| 200/200 [00:00<00:00, 5970.88it/s]\n"
     ]
    },
    {
     "name": "stdout",
     "output_type": "stream",
     "text": [
      "discovering...\n"
     ]
    },
    {
     "name": "stderr",
     "output_type": "stream",
     "text": [
      "replaying log with TBR, completed variants :: 100%|██████████| 122/122 [00:00<00:00, 575.15it/s]\n",
      "parsing log, completed traces :: 100%|██████████| 200/200 [00:00<00:00, 6082.18it/s]\n"
     ]
    },
    {
     "name": "stdout",
     "output_type": "stream",
     "text": [
      "discovering...\n"
     ]
    },
    {
     "name": "stderr",
     "output_type": "stream",
     "text": [
      "replaying log with TBR, completed variants :: 100%|██████████| 117/117 [00:00<00:00, 639.29it/s]\n",
      "parsing log, completed traces :: 100%|██████████| 200/200 [00:00<00:00, 5999.71it/s]\n"
     ]
    },
    {
     "name": "stdout",
     "output_type": "stream",
     "text": [
      "discovering...\n"
     ]
    },
    {
     "name": "stderr",
     "output_type": "stream",
     "text": [
      "replaying log with TBR, completed variants :: 100%|██████████| 112/112 [00:00<00:00, 648.67it/s]\n",
      "parsing log, completed traces :: 100%|██████████| 199/199 [00:00<00:00, 6031.39it/s]\n"
     ]
    },
    {
     "name": "stdout",
     "output_type": "stream",
     "text": [
      "discovering...\n"
     ]
    },
    {
     "name": "stderr",
     "output_type": "stream",
     "text": [
      "replaying log with TBR, completed variants :: 100%|██████████| 125/125 [00:00<00:00, 553.29it/s]\n",
      "parsing log, completed traces :: 100%|██████████| 199/199 [00:00<00:00, 6146.34it/s]\n"
     ]
    },
    {
     "name": "stdout",
     "output_type": "stream",
     "text": [
      "discovering...\n"
     ]
    },
    {
     "name": "stderr",
     "output_type": "stream",
     "text": [
      "replaying log with TBR, completed variants :: 100%|██████████| 127/127 [00:00<00:00, 591.27it/s]\n",
      "parsing log, completed traces :: 100%|██████████| 200/200 [00:00<00:00, 6369.68it/s]\n"
     ]
    },
    {
     "name": "stdout",
     "output_type": "stream",
     "text": [
      "discovering...\n"
     ]
    },
    {
     "name": "stderr",
     "output_type": "stream",
     "text": [
      "replaying log with TBR, completed variants :: 100%|██████████| 124/124 [00:00<00:00, 589.99it/s]\n",
      "parsing log, completed traces :: 100%|██████████| 200/200 [00:00<00:00, 5971.22it/s]\n"
     ]
    },
    {
     "name": "stdout",
     "output_type": "stream",
     "text": [
      "discovering...\n"
     ]
    },
    {
     "name": "stderr",
     "output_type": "stream",
     "text": [
      "replaying log with TBR, completed variants :: 100%|██████████| 126/126 [00:00<00:00, 571.95it/s]\n",
      "parsing log, completed traces :: 100%|██████████| 199/199 [00:00<00:00, 6060.21it/s]\n"
     ]
    },
    {
     "name": "stdout",
     "output_type": "stream",
     "text": [
      "discovering...\n"
     ]
    },
    {
     "name": "stderr",
     "output_type": "stream",
     "text": [
      "replaying log with TBR, completed variants :: 100%|██████████| 129/129 [00:00<00:00, 570.50it/s]\n",
      "parsing log, completed traces :: 100%|██████████| 200/200 [00:00<00:00, 6022.15it/s]\n"
     ]
    },
    {
     "name": "stdout",
     "output_type": "stream",
     "text": [
      "discovering...\n"
     ]
    },
    {
     "name": "stderr",
     "output_type": "stream",
     "text": [
      "replaying log with TBR, completed variants :: 100%|██████████| 128/128 [00:00<00:00, 566.91it/s]\n",
      "parsing log, completed traces :: 100%|██████████| 199/199 [00:00<00:00, 6133.29it/s]\n"
     ]
    },
    {
     "name": "stdout",
     "output_type": "stream",
     "text": [
      "discovering...\n"
     ]
    },
    {
     "name": "stderr",
     "output_type": "stream",
     "text": [
      "replaying log with TBR, completed variants :: 100%|██████████| 122/122 [00:00<00:00, 588.46it/s]\n",
      "parsing log, completed traces :: 100%|██████████| 200/200 [00:00<00:00, 5944.77it/s]\n"
     ]
    },
    {
     "name": "stdout",
     "output_type": "stream",
     "text": [
      "discovering...\n"
     ]
    },
    {
     "name": "stderr",
     "output_type": "stream",
     "text": [
      "replaying log with TBR, completed variants :: 100%|██████████| 122/122 [00:00<00:00, 594.06it/s]\n",
      "parsing log, completed traces :: 100%|██████████| 200/200 [00:00<00:00, 6544.29it/s]\n"
     ]
    },
    {
     "name": "stdout",
     "output_type": "stream",
     "text": [
      "discovering...\n"
     ]
    },
    {
     "name": "stderr",
     "output_type": "stream",
     "text": [
      "replaying log with TBR, completed variants :: 100%|██████████| 126/126 [00:00<00:00, 599.65it/s]\n",
      "parsing log, completed traces :: 100%|██████████| 200/200 [00:00<00:00, 5953.80it/s]\n"
     ]
    },
    {
     "name": "stdout",
     "output_type": "stream",
     "text": [
      "discovering...\n"
     ]
    },
    {
     "name": "stderr",
     "output_type": "stream",
     "text": [
      "replaying log with TBR, completed variants :: 100%|██████████| 119/119 [00:00<00:00, 596.00it/s]\n",
      "parsing log, completed traces :: 100%|██████████| 181/181 [00:00<00:00, 7777.89it/s]\n"
     ]
    },
    {
     "name": "stdout",
     "output_type": "stream",
     "text": [
      "discovering...\n"
     ]
    },
    {
     "name": "stderr",
     "output_type": "stream",
     "text": [
      "replaying log with TBR, completed variants :: 100%|██████████| 85/85 [00:00<00:00, 1149.71it/s]\n",
      "parsing log, completed traces :: 100%|██████████| 185/185 [00:00<00:00, 8364.19it/s]\n"
     ]
    },
    {
     "name": "stdout",
     "output_type": "stream",
     "text": [
      "discovering...\n"
     ]
    },
    {
     "name": "stderr",
     "output_type": "stream",
     "text": [
      "replaying log with TBR, completed variants :: 100%|██████████| 69/69 [00:00<00:00, 1317.37it/s]\n",
      "parsing log, completed traces :: 100%|██████████| 180/180 [00:00<00:00, 7953.63it/s]\n"
     ]
    },
    {
     "name": "stdout",
     "output_type": "stream",
     "text": [
      "discovering...\n"
     ]
    },
    {
     "name": "stderr",
     "output_type": "stream",
     "text": [
      "replaying log with TBR, completed variants :: 100%|██████████| 79/79 [00:00<00:00, 1063.67it/s]\n",
      "parsing log, completed traces :: 100%|██████████| 187/187 [00:00<00:00, 7140.44it/s]\n"
     ]
    },
    {
     "name": "stdout",
     "output_type": "stream",
     "text": [
      "discovering...\n"
     ]
    },
    {
     "name": "stderr",
     "output_type": "stream",
     "text": [
      "replaying log with TBR, completed variants :: 100%|██████████| 103/103 [00:00<00:00, 785.25it/s]\n",
      "parsing log, completed traces :: 100%|██████████| 187/187 [00:00<00:00, 8119.49it/s]\n"
     ]
    },
    {
     "name": "stdout",
     "output_type": "stream",
     "text": [
      "discovering...\n"
     ]
    },
    {
     "name": "stderr",
     "output_type": "stream",
     "text": [
      "replaying log with TBR, completed variants :: 100%|██████████| 87/87 [00:00<00:00, 864.44it/s]\n",
      "parsing log, completed traces :: 100%|██████████| 180/180 [00:00<00:00, 7785.81it/s]\n"
     ]
    },
    {
     "name": "stdout",
     "output_type": "stream",
     "text": [
      "discovering...\n"
     ]
    },
    {
     "name": "stderr",
     "output_type": "stream",
     "text": [
      "replaying log with TBR, completed variants :: 100%|██████████| 80/80 [00:00<00:00, 1198.70it/s]\n",
      "parsing log, completed traces :: 100%|██████████| 182/182 [00:00<00:00, 7683.27it/s]\n"
     ]
    },
    {
     "name": "stdout",
     "output_type": "stream",
     "text": [
      "discovering...\n"
     ]
    },
    {
     "name": "stderr",
     "output_type": "stream",
     "text": [
      "replaying log with TBR, completed variants :: 100%|██████████| 85/85 [00:00<00:00, 1089.21it/s]\n",
      "parsing log, completed traces :: 100%|██████████| 189/189 [00:00<00:00, 7839.36it/s]\n"
     ]
    },
    {
     "name": "stdout",
     "output_type": "stream",
     "text": [
      "discovering...\n"
     ]
    },
    {
     "name": "stderr",
     "output_type": "stream",
     "text": [
      "replaying log with TBR, completed variants :: 100%|██████████| 83/83 [00:00<00:00, 1166.61it/s]\n",
      "parsing log, completed traces :: 100%|██████████| 184/184 [00:00<00:00, 7818.77it/s]\n"
     ]
    },
    {
     "name": "stdout",
     "output_type": "stream",
     "text": [
      "discovering...\n"
     ]
    },
    {
     "name": "stderr",
     "output_type": "stream",
     "text": [
      "replaying log with TBR, completed variants :: 100%|██████████| 83/83 [00:00<00:00, 1304.73it/s]\n",
      "parsing log, completed traces :: 100%|██████████| 189/189 [00:00<00:00, 7862.60it/s]\n"
     ]
    },
    {
     "name": "stdout",
     "output_type": "stream",
     "text": [
      "discovering...\n"
     ]
    },
    {
     "name": "stderr",
     "output_type": "stream",
     "text": [
      "replaying log with TBR, completed variants :: 100%|██████████| 84/84 [00:00<00:00, 1235.42it/s]\n",
      "parsing log, completed traces :: 100%|██████████| 181/181 [00:00<00:00, 7583.73it/s]\n"
     ]
    },
    {
     "name": "stdout",
     "output_type": "stream",
     "text": [
      "discovering...\n"
     ]
    },
    {
     "name": "stderr",
     "output_type": "stream",
     "text": [
      "replaying log with TBR, completed variants :: 100%|██████████| 80/80 [00:00<00:00, 963.71it/s]\n",
      "parsing log, completed traces :: 100%|██████████| 191/191 [00:00<00:00, 7759.56it/s]\n"
     ]
    },
    {
     "name": "stdout",
     "output_type": "stream",
     "text": [
      "discovering...\n"
     ]
    },
    {
     "name": "stderr",
     "output_type": "stream",
     "text": [
      "replaying log with TBR, completed variants :: 100%|██████████| 91/91 [00:00<00:00, 1103.83it/s]\n",
      "parsing log, completed traces :: 100%|██████████| 186/186 [00:00<00:00, 7517.91it/s]\n"
     ]
    },
    {
     "name": "stdout",
     "output_type": "stream",
     "text": [
      "discovering...\n"
     ]
    },
    {
     "name": "stderr",
     "output_type": "stream",
     "text": [
      "replaying log with TBR, completed variants :: 100%|██████████| 90/90 [00:00<00:00, 1156.07it/s]\n",
      "parsing log, completed traces :: 100%|██████████| 188/188 [00:00<00:00, 7250.58it/s]\n"
     ]
    },
    {
     "name": "stdout",
     "output_type": "stream",
     "text": [
      "discovering...\n"
     ]
    },
    {
     "name": "stderr",
     "output_type": "stream",
     "text": [
      "replaying log with TBR, completed variants :: 100%|██████████| 97/97 [00:00<00:00, 1143.07it/s]\n",
      "parsing log, completed traces :: 100%|██████████| 187/187 [00:00<00:00, 7784.88it/s]\n"
     ]
    },
    {
     "name": "stdout",
     "output_type": "stream",
     "text": [
      "discovering...\n"
     ]
    },
    {
     "name": "stderr",
     "output_type": "stream",
     "text": [
      "replaying log with TBR, completed variants :: 100%|██████████| 80/80 [00:00<00:00, 1199.13it/s]\n",
      "parsing log, completed traces :: 100%|██████████| 186/186 [00:00<00:00, 7828.96it/s]\n"
     ]
    },
    {
     "name": "stdout",
     "output_type": "stream",
     "text": [
      "discovering...\n"
     ]
    },
    {
     "name": "stderr",
     "output_type": "stream",
     "text": [
      "replaying log with TBR, completed variants :: 100%|██████████| 72/72 [00:00<00:00, 827.14it/s]\n",
      "parsing log, completed traces :: 100%|██████████| 186/186 [00:00<00:00, 7578.89it/s]\n"
     ]
    },
    {
     "name": "stdout",
     "output_type": "stream",
     "text": [
      "discovering...\n"
     ]
    },
    {
     "name": "stderr",
     "output_type": "stream",
     "text": [
      "replaying log with TBR, completed variants :: 100%|██████████| 96/96 [00:00<00:00, 963.00it/s]\n",
      "parsing log, completed traces :: 100%|██████████| 185/185 [00:00<00:00, 7924.94it/s]\n"
     ]
    },
    {
     "name": "stdout",
     "output_type": "stream",
     "text": [
      "discovering...\n"
     ]
    },
    {
     "name": "stderr",
     "output_type": "stream",
     "text": [
      "replaying log with TBR, completed variants :: 100%|██████████| 81/81 [00:00<00:00, 1393.99it/s]\n",
      "parsing log, completed traces :: 100%|██████████| 186/186 [00:00<00:00, 7927.37it/s]\n"
     ]
    },
    {
     "name": "stdout",
     "output_type": "stream",
     "text": [
      "discovering...\n"
     ]
    },
    {
     "name": "stderr",
     "output_type": "stream",
     "text": [
      "replaying log with TBR, completed variants :: 100%|██████████| 81/81 [00:00<00:00, 1339.11it/s]\n",
      "parsing log, completed traces :: 100%|██████████| 188/188 [00:00<00:00, 7590.77it/s]\n"
     ]
    },
    {
     "name": "stdout",
     "output_type": "stream",
     "text": [
      "discovering...\n"
     ]
    },
    {
     "name": "stderr",
     "output_type": "stream",
     "text": [
      "replaying log with TBR, completed variants :: 100%|██████████| 85/85 [00:00<00:00, 1030.58it/s]\n",
      "parsing log, completed traces :: 100%|██████████| 189/189 [00:00<00:00, 7664.57it/s]\n"
     ]
    },
    {
     "name": "stdout",
     "output_type": "stream",
     "text": [
      "discovering...\n"
     ]
    },
    {
     "name": "stderr",
     "output_type": "stream",
     "text": [
      "replaying log with TBR, completed variants :: 100%|██████████| 88/88 [00:00<00:00, 980.09it/s]\n",
      "parsing log, completed traces :: 100%|██████████| 182/182 [00:00<00:00, 7633.94it/s]\n"
     ]
    },
    {
     "name": "stdout",
     "output_type": "stream",
     "text": [
      "discovering...\n"
     ]
    },
    {
     "name": "stderr",
     "output_type": "stream",
     "text": [
      "replaying log with TBR, completed variants :: 100%|██████████| 81/81 [00:00<00:00, 909.43it/s]\n",
      "parsing log, completed traces :: 100%|██████████| 182/182 [00:00<00:00, 7680.64it/s]\n"
     ]
    },
    {
     "name": "stdout",
     "output_type": "stream",
     "text": [
      "discovering...\n"
     ]
    },
    {
     "name": "stderr",
     "output_type": "stream",
     "text": [
      "replaying log with TBR, completed variants :: 100%|██████████| 81/81 [00:00<00:00, 1464.58it/s]\n",
      "parsing log, completed traces :: 100%|██████████| 185/185 [00:00<00:00, 7604.78it/s]\n"
     ]
    },
    {
     "name": "stdout",
     "output_type": "stream",
     "text": [
      "discovering...\n"
     ]
    },
    {
     "name": "stderr",
     "output_type": "stream",
     "text": [
      "replaying log with TBR, completed variants :: 100%|██████████| 85/85 [00:00<00:00, 1048.94it/s]\n",
      "parsing log, completed traces :: 100%|██████████| 187/187 [00:00<00:00, 7633.58it/s]\n"
     ]
    },
    {
     "name": "stdout",
     "output_type": "stream",
     "text": [
      "discovering...\n"
     ]
    },
    {
     "name": "stderr",
     "output_type": "stream",
     "text": [
      "replaying log with TBR, completed variants :: 100%|██████████| 93/93 [00:00<00:00, 1312.99it/s]\n",
      "parsing log, completed traces :: 100%|██████████| 183/183 [00:00<00:00, 7584.56it/s]\n"
     ]
    },
    {
     "name": "stdout",
     "output_type": "stream",
     "text": [
      "discovering...\n"
     ]
    },
    {
     "name": "stderr",
     "output_type": "stream",
     "text": [
      "replaying log with TBR, completed variants :: 100%|██████████| 80/80 [00:00<00:00, 1248.99it/s]\n",
      "parsing log, completed traces :: 100%|██████████| 186/186 [00:00<00:00, 7793.53it/s]\n"
     ]
    },
    {
     "name": "stdout",
     "output_type": "stream",
     "text": [
      "discovering...\n"
     ]
    },
    {
     "name": "stderr",
     "output_type": "stream",
     "text": [
      "replaying log with TBR, completed variants :: 100%|██████████| 87/87 [00:00<00:00, 824.38it/s]\n",
      "parsing log, completed traces :: 100%|██████████| 187/187 [00:00<00:00, 7786.82it/s]\n"
     ]
    },
    {
     "name": "stdout",
     "output_type": "stream",
     "text": [
      "discovering...\n"
     ]
    },
    {
     "name": "stderr",
     "output_type": "stream",
     "text": [
      "replaying log with TBR, completed variants :: 100%|██████████| 89/89 [00:00<00:00, 1202.61it/s]\n",
      "parsing log, completed traces :: 100%|██████████| 189/189 [00:00<00:00, 7799.63it/s]\n"
     ]
    },
    {
     "name": "stdout",
     "output_type": "stream",
     "text": [
      "discovering...\n"
     ]
    },
    {
     "name": "stderr",
     "output_type": "stream",
     "text": [
      "replaying log with TBR, completed variants :: 100%|██████████| 84/84 [00:00<00:00, 1249.89it/s]\n",
      "parsing log, completed traces :: 100%|██████████| 187/187 [00:00<00:00, 8188.41it/s]\n"
     ]
    },
    {
     "name": "stdout",
     "output_type": "stream",
     "text": [
      "discovering...\n"
     ]
    },
    {
     "name": "stderr",
     "output_type": "stream",
     "text": [
      "replaying log with TBR, completed variants :: 100%|██████████| 84/84 [00:00<00:00, 945.64it/s]\n"
     ]
    }
   ],
   "source": [
    "# interarrival times between first last petri nets\n",
    "pn_IT_fl_u = folder_IT_firstlast_pn(u_folder, 30)\n",
    "pn_IT_fl_c = folder_IT_firstlast_pn(c_folder, 30)\n",
    "\n"
   ]
  },
  {
   "cell_type": "code",
   "execution_count": 26,
   "metadata": {},
   "outputs": [
    {
     "name": "stderr",
     "output_type": "stream",
     "text": [
      "parsing log, completed traces :: 100%|██████████| 199/199 [00:00<00:00, 6534.82it/s]\n",
      "parsing log, completed traces :: 100%|██████████| 200/200 [00:00<00:00, 6454.56it/s]\n",
      "parsing log, completed traces :: 100%|██████████| 200/200 [00:00<00:00, 6417.04it/s]\n",
      "parsing log, completed traces :: 100%|██████████| 199/199 [00:00<00:00, 6614.21it/s]\n",
      "parsing log, completed traces :: 100%|██████████| 199/199 [00:00<00:00, 6188.22it/s]\n",
      "parsing log, completed traces :: 100%|██████████| 199/199 [00:00<00:00, 6204.41it/s]\n",
      "parsing log, completed traces :: 100%|██████████| 200/200 [00:00<00:00, 6577.39it/s]\n",
      "parsing log, completed traces :: 100%|██████████| 198/198 [00:00<00:00, 6402.63it/s]\n",
      "parsing log, completed traces :: 100%|██████████| 199/199 [00:00<00:00, 799.57it/s]\n",
      "parsing log, completed traces :: 100%|██████████| 200/200 [00:00<00:00, 6224.30it/s]\n",
      "parsing log, completed traces :: 100%|██████████| 200/200 [00:00<00:00, 6683.19it/s]\n",
      "parsing log, completed traces :: 100%|██████████| 198/198 [00:00<00:00, 6585.67it/s]\n",
      "parsing log, completed traces :: 100%|██████████| 200/200 [00:00<00:00, 6756.29it/s]\n",
      "parsing log, completed traces :: 100%|██████████| 198/198 [00:00<00:00, 6937.19it/s]\n",
      "parsing log, completed traces :: 100%|██████████| 200/200 [00:00<00:00, 6614.11it/s]\n",
      "parsing log, completed traces :: 100%|██████████| 200/200 [00:00<00:00, 6398.54it/s]\n",
      "parsing log, completed traces :: 100%|██████████| 199/199 [00:00<00:00, 6613.37it/s]\n",
      "parsing log, completed traces :: 100%|██████████| 200/200 [00:00<00:00, 6436.24it/s]\n",
      "parsing log, completed traces :: 100%|██████████| 200/200 [00:00<00:00, 6282.19it/s]\n",
      "parsing log, completed traces :: 100%|██████████| 200/200 [00:00<00:00, 6259.22it/s]\n",
      "parsing log, completed traces :: 100%|██████████| 199/199 [00:00<00:00, 6104.84it/s]\n",
      "parsing log, completed traces :: 100%|██████████| 199/199 [00:00<00:00, 6570.88it/s]\n",
      "parsing log, completed traces :: 100%|██████████| 200/200 [00:00<00:00, 6935.71it/s]\n",
      "parsing log, completed traces :: 100%|██████████| 200/200 [00:00<00:00, 6352.79it/s]\n",
      "parsing log, completed traces :: 100%|██████████| 199/199 [00:00<00:00, 6361.06it/s]\n",
      "parsing log, completed traces :: 100%|██████████| 200/200 [00:00<00:00, 6067.23it/s]\n",
      "parsing log, completed traces :: 100%|██████████| 199/199 [00:00<00:00, 6358.83it/s]\n",
      "parsing log, completed traces :: 100%|██████████| 200/200 [00:00<00:00, 797.29it/s]\n",
      "parsing log, completed traces :: 100%|██████████| 200/200 [00:00<00:00, 6612.70it/s]\n",
      "parsing log, completed traces :: 100%|██████████| 200/200 [00:00<00:00, 6517.65it/s]\n",
      "parsing log, completed traces :: 100%|██████████| 181/181 [00:00<00:00, 8243.77it/s]\n",
      "parsing log, completed traces :: 100%|██████████| 185/185 [00:00<00:00, 8870.39it/s]\n",
      "parsing log, completed traces :: 100%|██████████| 180/180 [00:00<00:00, 8284.23it/s]\n",
      "parsing log, completed traces :: 100%|██████████| 187/187 [00:00<00:00, 8078.10it/s]\n",
      "parsing log, completed traces :: 100%|██████████| 187/187 [00:00<00:00, 8316.65it/s]\n",
      "parsing log, completed traces :: 100%|██████████| 180/180 [00:00<00:00, 8285.04it/s]\n",
      "parsing log, completed traces :: 100%|██████████| 182/182 [00:00<00:00, 8347.42it/s]\n",
      "parsing log, completed traces :: 100%|██████████| 189/189 [00:00<00:00, 8453.37it/s]\n",
      "parsing log, completed traces :: 100%|██████████| 184/184 [00:00<00:00, 8336.41it/s]\n",
      "parsing log, completed traces :: 100%|██████████| 189/189 [00:00<00:00, 784.41it/s]\n",
      "parsing log, completed traces :: 100%|██████████| 181/181 [00:00<00:00, 8495.34it/s]\n",
      "parsing log, completed traces :: 100%|██████████| 191/191 [00:00<00:00, 8078.90it/s]\n",
      "parsing log, completed traces :: 100%|██████████| 186/186 [00:00<00:00, 8343.04it/s]\n",
      "parsing log, completed traces :: 100%|██████████| 188/188 [00:00<00:00, 8011.23it/s]\n",
      "parsing log, completed traces :: 100%|██████████| 187/187 [00:00<00:00, 8255.29it/s]\n",
      "parsing log, completed traces :: 100%|██████████| 186/186 [00:00<00:00, 8683.47it/s]\n",
      "parsing log, completed traces :: 100%|██████████| 186/186 [00:00<00:00, 8157.48it/s]\n",
      "parsing log, completed traces :: 100%|██████████| 185/185 [00:00<00:00, 8171.04it/s]\n",
      "parsing log, completed traces :: 100%|██████████| 186/186 [00:00<00:00, 8506.79it/s]\n",
      "parsing log, completed traces :: 100%|██████████| 188/188 [00:00<00:00, 7935.52it/s]\n",
      "parsing log, completed traces :: 100%|██████████| 189/189 [00:00<00:00, 7860.89it/s]\n",
      "parsing log, completed traces :: 100%|██████████| 182/182 [00:00<00:00, 8448.68it/s]\n",
      "parsing log, completed traces :: 100%|██████████| 182/182 [00:00<00:00, 756.74it/s]\n",
      "parsing log, completed traces :: 100%|██████████| 185/185 [00:00<00:00, 8185.09it/s]\n",
      "parsing log, completed traces :: 100%|██████████| 187/187 [00:00<00:00, 4165.19it/s]\n",
      "parsing log, completed traces :: 100%|██████████| 183/183 [00:00<00:00, 8181.70it/s]\n",
      "parsing log, completed traces :: 100%|██████████| 186/186 [00:00<00:00, 7878.06it/s]\n",
      "parsing log, completed traces :: 100%|██████████| 187/187 [00:00<00:00, 8159.53it/s]\n",
      "parsing log, completed traces :: 100%|██████████| 189/189 [00:00<00:00, 8577.22it/s]\n",
      "parsing log, completed traces :: 100%|██████████| 187/187 [00:00<00:00, 8378.21it/s]\n"
     ]
    }
   ],
   "source": [
    "# interarrival times between all events log\n",
    "log_IT_all_u = folder_IT_between_log(u_folder, 30)\n",
    "log_IT_all_c = folder_IT_between_log(c_folder, 30)"
   ]
  },
  {
   "cell_type": "code",
   "execution_count": 8,
   "metadata": {},
   "outputs": [
    {
     "name": "stderr",
     "output_type": "stream",
     "text": [
      "parsing log, completed traces :: 100%|██████████| 199/199 [00:00<00:00, 5090.83it/s]\n",
      "parsing log, completed traces :: 100%|██████████| 200/200 [00:00<00:00, 6390.78it/s]\n",
      "parsing log, completed traces :: 100%|██████████| 200/200 [00:00<00:00, 6300.21it/s]\n",
      "parsing log, completed traces :: 100%|██████████| 199/199 [00:00<00:00, 6475.35it/s]\n",
      "parsing log, completed traces :: 100%|██████████| 199/199 [00:00<00:00, 5996.68it/s]\n",
      "parsing log, completed traces :: 100%|██████████| 199/199 [00:00<00:00, 6121.41it/s]\n",
      "parsing log, completed traces :: 100%|██████████| 200/200 [00:00<00:00, 6371.27it/s]\n",
      "parsing log, completed traces :: 100%|██████████| 198/198 [00:00<00:00, 6367.97it/s]\n",
      "parsing log, completed traces :: 100%|██████████| 199/199 [00:00<00:00, 6528.69it/s]\n",
      "parsing log, completed traces :: 100%|██████████| 200/200 [00:00<00:00, 5997.00it/s]\n",
      "parsing log, completed traces :: 100%|██████████| 200/200 [00:00<00:00, 6243.75it/s]\n",
      "parsing log, completed traces :: 100%|██████████| 198/198 [00:00<00:00, 6257.89it/s]\n",
      "parsing log, completed traces :: 100%|██████████| 200/200 [00:00<00:00, 6456.60it/s]\n",
      "parsing log, completed traces :: 100%|██████████| 198/198 [00:00<00:00, 6584.78it/s]\n",
      "parsing log, completed traces :: 100%|██████████| 200/200 [00:00<00:00, 6488.66it/s]\n",
      "parsing log, completed traces :: 100%|██████████| 200/200 [00:00<00:00, 6172.81it/s]\n",
      "parsing log, completed traces :: 100%|██████████| 199/199 [00:00<00:00, 6305.70it/s]\n",
      "parsing log, completed traces :: 100%|██████████| 200/200 [00:00<00:00, 6214.11it/s]\n",
      "parsing log, completed traces :: 100%|██████████| 200/200 [00:00<00:00, 6243.80it/s]\n",
      "parsing log, completed traces :: 100%|██████████| 200/200 [00:00<00:00, 6342.75it/s]\n",
      "parsing log, completed traces :: 100%|██████████| 199/199 [00:00<00:00, 6150.28it/s]\n",
      "parsing log, completed traces :: 100%|██████████| 199/199 [00:00<00:00, 6281.36it/s]\n",
      "parsing log, completed traces :: 100%|██████████| 200/200 [00:00<00:00, 6484.05it/s]\n",
      "parsing log, completed traces :: 100%|██████████| 200/200 [00:00<00:00, 6081.21it/s]\n",
      "parsing log, completed traces :: 100%|██████████| 199/199 [00:00<00:00, 6014.10it/s]\n",
      "parsing log, completed traces :: 100%|██████████| 200/200 [00:00<00:00, 6097.79it/s]\n",
      "parsing log, completed traces :: 100%|██████████| 199/199 [00:00<00:00, 6292.10it/s]\n",
      "parsing log, completed traces :: 100%|██████████| 200/200 [00:00<00:00, 6186.24it/s]\n",
      "parsing log, completed traces :: 100%|██████████| 200/200 [00:00<00:00, 6446.58it/s]\n",
      "parsing log, completed traces :: 100%|██████████| 200/200 [00:00<00:00, 6247.89it/s]\n",
      "parsing log, completed traces :: 100%|██████████| 181/181 [00:00<00:00, 8065.97it/s]\n",
      "parsing log, completed traces :: 100%|██████████| 185/185 [00:00<00:00, 8572.76it/s]\n",
      "parsing log, completed traces :: 100%|██████████| 180/180 [00:00<00:00, 8270.89it/s]\n",
      "parsing log, completed traces :: 100%|██████████| 187/187 [00:00<00:00, 7167.20it/s]\n",
      "parsing log, completed traces :: 100%|██████████| 187/187 [00:00<00:00, 7759.08it/s]\n",
      "parsing log, completed traces :: 100%|██████████| 180/180 [00:00<00:00, 8138.57it/s]\n",
      "parsing log, completed traces :: 100%|██████████| 182/182 [00:00<00:00, 7862.03it/s]\n",
      "parsing log, completed traces :: 100%|██████████| 189/189 [00:00<00:00, 7887.80it/s]\n",
      "parsing log, completed traces :: 100%|██████████| 184/184 [00:00<00:00, 7680.42it/s]\n",
      "parsing log, completed traces :: 100%|██████████| 189/189 [00:00<00:00, 8025.87it/s]\n",
      "parsing log, completed traces :: 100%|██████████| 181/181 [00:00<00:00, 8000.35it/s]\n",
      "parsing log, completed traces :: 100%|██████████| 191/191 [00:00<00:00, 7830.85it/s]\n",
      "parsing log, completed traces :: 100%|██████████| 186/186 [00:00<00:00, 7867.33it/s]\n",
      "parsing log, completed traces :: 100%|██████████| 188/188 [00:00<00:00, 7646.94it/s]\n",
      "parsing log, completed traces :: 100%|██████████| 187/187 [00:00<00:00, 8000.07it/s]\n",
      "parsing log, completed traces :: 100%|██████████| 186/186 [00:00<00:00, 7960.94it/s]\n",
      "parsing log, completed traces :: 100%|██████████| 186/186 [00:00<00:00, 7573.96it/s]\n",
      "parsing log, completed traces :: 100%|██████████| 185/185 [00:00<00:00, 7577.01it/s]\n",
      "parsing log, completed traces :: 100%|██████████| 186/186 [00:00<00:00, 8228.98it/s]\n",
      "parsing log, completed traces :: 100%|██████████| 188/188 [00:00<00:00, 3853.25it/s]\n",
      "parsing log, completed traces :: 100%|██████████| 189/189 [00:00<00:00, 7515.18it/s]\n",
      "parsing log, completed traces :: 100%|██████████| 182/182 [00:00<00:00, 7775.70it/s]\n",
      "parsing log, completed traces :: 100%|██████████| 182/182 [00:00<00:00, 7716.43it/s]\n",
      "parsing log, completed traces :: 100%|██████████| 185/185 [00:00<00:00, 7434.79it/s]\n",
      "parsing log, completed traces :: 100%|██████████| 187/187 [00:00<00:00, 7647.35it/s]\n",
      "parsing log, completed traces :: 100%|██████████| 183/183 [00:00<00:00, 7720.51it/s]\n",
      "parsing log, completed traces :: 100%|██████████| 186/186 [00:00<00:00, 7237.87it/s]\n",
      "parsing log, completed traces :: 100%|██████████| 187/187 [00:00<00:00, 7197.32it/s]\n",
      "parsing log, completed traces :: 100%|██████████| 189/189 [00:00<00:00, 8041.50it/s]\n",
      "parsing log, completed traces :: 100%|██████████| 187/187 [00:00<00:00, 8189.60it/s]\n"
     ]
    }
   ],
   "source": [
    "# interarrival times between first last petri nets\n",
    "log_IT_fl_u = folder_IT_firstlast_log(u_folder, 30)\n",
    "log_IT_fl_c = folder_IT_firstlast_log(c_folder, 30)\n",
    "\n"
   ]
  },
  {
   "cell_type": "code",
   "execution_count": 11,
   "metadata": {},
   "outputs": [
    {
     "name": "stderr",
     "output_type": "stream",
     "text": [
      "parsing log, completed traces :: 100%|██████████| 199/199 [00:05<00:00, 36.88it/s]\n",
      "/Users/ethanjohnson/.local/share/virtualenvs/mphil-project-KaAb4vnI/lib/python3.10/site-packages/pm4py/utils.py:537: UserWarning: the EventLog class has been deprecated and will be removed in a future release.\n",
      "  warnings.warn(\"the EventLog class has been deprecated and will be removed in a future release.\")\n",
      "parsing log, completed traces :: 100%|██████████| 200/200 [00:00<00:00, 6223.56it/s]\n",
      "parsing log, completed traces :: 100%|██████████| 200/200 [00:00<00:00, 6081.79it/s]\n",
      "parsing log, completed traces :: 100%|██████████| 199/199 [00:04<00:00, 40.03it/s]\n",
      "parsing log, completed traces :: 100%|██████████| 199/199 [00:00<00:00, 5999.23it/s]\n",
      "parsing log, completed traces :: 100%|██████████| 199/199 [00:00<00:00, 5793.12it/s]\n",
      "parsing log, completed traces :: 100%|██████████| 200/200 [00:04<00:00, 48.55it/s]\n",
      "parsing log, completed traces :: 100%|██████████| 198/198 [00:00<00:00, 6114.73it/s]\n",
      "parsing log, completed traces :: 100%|██████████| 199/199 [00:00<00:00, 6429.91it/s]\n",
      "parsing log, completed traces :: 100%|██████████| 200/200 [00:05<00:00, 34.71it/s]\n",
      "parsing log, completed traces :: 100%|██████████| 200/200 [00:00<00:00, 5909.51it/s]\n",
      "parsing log, completed traces :: 100%|██████████| 198/198 [00:00<00:00, 6242.74it/s]\n",
      "parsing log, completed traces :: 100%|██████████| 200/200 [00:00<00:00, 6176.86it/s]\n",
      "parsing log, completed traces :: 100%|██████████| 198/198 [00:00<00:00, 6300.33it/s]\n",
      "parsing log, completed traces :: 100%|██████████| 200/200 [00:00<00:00, 6062.27it/s]\n",
      "parsing log, completed traces :: 100%|██████████| 200/200 [00:05<00:00, 36.91it/s]\n",
      "parsing log, completed traces :: 100%|██████████| 199/199 [00:00<00:00, 6286.89it/s]\n",
      "parsing log, completed traces :: 100%|██████████| 200/200 [00:00<00:00, 6121.64it/s]\n",
      "parsing log, completed traces :: 100%|██████████| 200/200 [00:04<00:00, 45.45it/s]\n",
      "parsing log, completed traces :: 100%|██████████| 200/200 [00:00<00:00, 5915.76it/s]\n",
      "parsing log, completed traces :: 100%|██████████| 199/199 [00:00<00:00, 5951.66it/s]\n",
      "parsing log, completed traces :: 100%|██████████| 199/199 [00:00<00:00, 5839.73it/s]\n",
      "parsing log, completed traces :: 100%|██████████| 200/200 [00:00<00:00, 6359.53it/s]\n",
      "parsing log, completed traces :: 100%|██████████| 200/200 [00:00<00:00, 5873.72it/s]\n",
      "parsing log, completed traces :: 100%|██████████| 199/199 [00:00<00:00, 4211.81it/s]\n",
      "parsing log, completed traces :: 100%|██████████| 200/200 [00:00<00:00, 5705.02it/s]\n",
      "parsing log, completed traces :: 100%|██████████| 199/199 [00:00<00:00, 6186.11it/s]\n",
      "parsing log, completed traces :: 100%|██████████| 200/200 [00:00<00:00, 4679.05it/s]\n",
      "parsing log, completed traces :: 100%|██████████| 200/200 [00:00<00:00, 6585.86it/s]\n",
      "parsing log, completed traces :: 100%|██████████| 200/200 [00:00<00:00, 6345.97it/s]\n",
      "parsing log, completed traces :: 100%|██████████| 181/181 [00:00<00:00, 7778.29it/s]\n",
      "parsing log, completed traces :: 100%|██████████| 185/185 [00:00<00:00, 8290.02it/s]\n",
      "parsing log, completed traces :: 100%|██████████| 180/180 [00:00<00:00, 7556.02it/s]\n",
      "parsing log, completed traces :: 100%|██████████| 187/187 [00:00<00:00, 7114.08it/s]\n",
      "parsing log, completed traces :: 100%|██████████| 187/187 [00:00<00:00, 7852.22it/s]\n",
      "parsing log, completed traces :: 100%|██████████| 180/180 [00:00<00:00, 7980.11it/s]\n",
      "parsing log, completed traces :: 100%|██████████| 182/182 [00:00<00:00, 7598.53it/s]\n",
      "parsing log, completed traces :: 100%|██████████| 189/189 [00:00<00:00, 7736.98it/s]\n",
      "parsing log, completed traces :: 100%|██████████| 184/184 [00:00<00:00, 7446.32it/s]\n",
      "parsing log, completed traces :: 100%|██████████| 189/189 [00:00<00:00, 7977.09it/s]\n",
      "parsing log, completed traces :: 100%|██████████| 181/181 [00:00<00:00, 7588.58it/s]\n",
      "parsing log, completed traces :: 100%|██████████| 191/191 [00:00<00:00, 7802.63it/s]\n",
      "parsing log, completed traces :: 100%|██████████| 186/186 [00:00<00:00, 7442.38it/s]\n",
      "parsing log, completed traces :: 100%|██████████| 188/188 [00:00<00:00, 7221.62it/s]\n",
      "parsing log, completed traces :: 100%|██████████| 187/187 [00:00<00:00, 8115.63it/s]\n",
      "parsing log, completed traces :: 100%|██████████| 186/186 [00:00<00:00, 7603.34it/s]\n",
      "parsing log, completed traces :: 100%|██████████| 186/186 [00:00<00:00, 7328.91it/s]\n",
      "parsing log, completed traces :: 100%|██████████| 185/185 [00:00<00:00, 7561.72it/s]\n",
      "parsing log, completed traces :: 100%|██████████| 186/186 [00:00<00:00, 7811.48it/s]\n",
      "parsing log, completed traces :: 100%|██████████| 188/188 [00:00<00:00, 7589.53it/s]\n",
      "parsing log, completed traces :: 100%|██████████| 189/189 [00:00<00:00, 7686.72it/s]\n",
      "parsing log, completed traces :: 100%|██████████| 182/182 [00:00<00:00, 7593.46it/s]\n",
      "parsing log, completed traces :: 100%|██████████| 182/182 [00:00<00:00, 7683.11it/s]\n",
      "parsing log, completed traces :: 100%|██████████| 185/185 [00:00<00:00, 7648.71it/s]\n",
      "parsing log, completed traces :: 100%|██████████| 187/187 [00:04<00:00, 37.85it/s]\n",
      "parsing log, completed traces :: 100%|██████████| 183/183 [00:00<00:00, 7448.47it/s]\n",
      "parsing log, completed traces :: 100%|██████████| 186/186 [00:00<00:00, 6751.60it/s]\n",
      "parsing log, completed traces :: 100%|██████████| 187/187 [00:00<00:00, 7786.04it/s]\n",
      "parsing log, completed traces :: 100%|██████████| 189/189 [00:00<00:00, 8012.49it/s]\n",
      "parsing log, completed traces :: 100%|██████████| 187/187 [00:00<00:00, 7783.18it/s]\n"
     ]
    }
   ],
   "source": [
    "# graph density petri nets\n",
    "pn_density_u = folder_density(u_folder)\n",
    "pn_density_c = folder_density(c_folder)\n"
   ]
  },
  {
   "cell_type": "markdown",
   "metadata": {},
   "source": [
    "comparing petri nets and markov chains:"
   ]
  },
  {
   "cell_type": "code",
   "execution_count": 25,
   "metadata": {},
   "outputs": [],
   "source": [
    "def compare_metrics(pn_metric, mc_metric, log_metric):\n",
    "    # this function compares the pn and mc metrics using the 2-sample anderson-darling test. It then produces a plot of the mc, pn and event log\n",
    "    # distributions using the designated metric\n",
    "    \n",
    "    pvalue = anderson_ksamp_testing(pn_metric, mc_metric)\n",
    "    print('pvalue: ', pvalue)\n",
    "\n",
    "    minlen = np.min([len(pn_metric), len(mc_metric), len(log_metric)])\n",
    "\n",
    "    bins=np.histogram(np.hstack((pn_metric, mc_metric, log_metric)), bins=100)[1]\n",
    "\n",
    "    plt.hist(pn_metric[:minlen], bins = bins, label = 'Petri Net')\n",
    "    plt.hist(mc_metric[:minlen], bins = bins, label = 'Markov Chain', alpha = 0.3)\n",
    "    plt.hist(log_metric[:minlen], bins = bins, label = 'Log')\n",
    "    plt.ylabel('Frequency')\n",
    "    \n",
    "\n",
    "    plt.legend()\n",
    "    return plt\n"
   ]
  },
  {
   "cell_type": "code",
   "execution_count": 41,
   "metadata": {},
   "outputs": [
    {
     "name": "stdout",
     "output_type": "stream",
     "text": [
      "pvalue:  0.0001\n"
     ]
    },
    {
     "data": {
      "image/png": "[encoded data removed]",
      "text/plain": [
       "<Figure size 640x480 with 1 Axes>"
      ]
     },
     "metadata": {},
     "output_type": "display_data"
    }
   ],
   "source": [
    "# graph density coordinated\n",
    "\n",
    "plt = compare_metrics(pn_density_c, mc_density_c)\n",
    "\n",
    "plt.xlabel('Density')\n",
    "plt.title('Density of Coordinated Datasets (UAE)')\n",
    "plt.show()"
   ]
  },
  {
   "cell_type": "code",
   "execution_count": 28,
   "metadata": {},
   "outputs": [
    {
     "ename": "NameError",
     "evalue": "name 'pn_density_u' is not defined",
     "output_type": "error",
     "traceback": [
      "\u001b[0;31m---------------------------------------------------------------------------\u001b[0m",
      "\u001b[0;31mNameError\u001b[0m                                 Traceback (most recent call last)",
      "Cell \u001b[0;32mIn[28], line 2\u001b[0m\n\u001b[1;32m      1\u001b[0m \u001b[38;5;66;03m# density uncoordinated\u001b[39;00m\n\u001b[0;32m----> 2\u001b[0m plt \u001b[38;5;241m=\u001b[39m compare_metrics(\u001b[43mpn_density_u\u001b[49m, mc_density_u)\n\u001b[1;32m      4\u001b[0m plt\u001b[38;5;241m.\u001b[39mxlabel(\u001b[38;5;124m'\u001b[39m\u001b[38;5;124mDensity\u001b[39m\u001b[38;5;124m'\u001b[39m)\n\u001b[1;32m      5\u001b[0m plt\u001b[38;5;241m.\u001b[39mtitle(\u001b[38;5;124m'\u001b[39m\u001b[38;5;124mDensity of Uncoordinated Datasets (UAE)\u001b[39m\u001b[38;5;124m'\u001b[39m)\n",
      "\u001b[0;31mNameError\u001b[0m: name 'pn_density_u' is not defined"
     ]
    }
   ],
   "source": [
    "# graph density uncoordinated\n",
    "plt = compare_metrics(pn_density_u, mc_density_u)\n",
    "\n",
    "plt.xlabel('Density')\n",
    "plt.title('Density of Uncoordinated Datasets (UAE)')\n",
    "plt.show()"
   ]
  },
  {
   "cell_type": "code",
   "execution_count": 31,
   "metadata": {},
   "outputs": [
    {
     "name": "stdout",
     "output_type": "stream",
     "text": [
      "pvalue:  0.0001\n"
     ]
    },
    {
     "data": {
      "image/png": "[encoded data removed]",
      "text/plain": [
       "<Figure size 640x480 with 1 Axes>"
      ]
     },
     "metadata": {},
     "output_type": "display_data"
    }
   ],
   "source": [
    "# it between all events coordinated\n",
    "\n",
    "plt = compare_metrics(pn_IT_all_c, mc_IT_all_c[:len(pn_IT_all_c)], log_IT_all_c)\n",
    "plt.xlabel('Time (seconds)')\n",
    "plt.title('Interarrival Times (All Events) of Coordinated Datasets (UAE)')\n",
    "plt.show()\n"
   ]
  },
  {
   "cell_type": "code",
   "execution_count": 32,
   "metadata": {},
   "outputs": [
    {
     "name": "stdout",
     "output_type": "stream",
     "text": [
      "pvalue:  0.0007\n"
     ]
    },
    {
     "data": {
      "image/png": "[encoded data removed]",
      "text/plain": [
       "<Figure size 640x480 with 1 Axes>"
      ]
     },
     "metadata": {},
     "output_type": "display_data"
    }
   ],
   "source": [
    "# it between all events uncoordinated\n",
    "\n",
    "plt = compare_metrics(pn_IT_all_u, mc_IT_all_u, log_IT_all_u)\n",
    "plt.xlabel('Time (seconds)')\n",
    "plt.title('Interarrival Times (All Events) of Uncoordinated Datasets (UAE)')\n",
    "plt.show()\n"
   ]
  },
  {
   "cell_type": "code",
   "execution_count": 26,
   "metadata": {},
   "outputs": [
    {
     "name": "stdout",
     "output_type": "stream",
     "text": [
      "pvalue:  0.0001\n"
     ]
    },
    {
     "data": {
      "image/png": "[encoded data removed]",
      "text/plain": [
       "<Figure size 640x480 with 1 Axes>"
      ]
     },
     "metadata": {},
     "output_type": "display_data"
    }
   ],
   "source": [
    "# it between first last events coordinated\n",
    "\n",
    "plt = compare_metrics(pn_IT_fl_c, mc_IT_fl_c, log_IT_fl_c)\n",
    "plt.xlabel('Time (hours)')\n",
    "plt.title('Interarrival Times (First to Last) of Coordinated Datasets (UAE)')\n",
    "plt.show()\n"
   ]
  },
  {
   "cell_type": "code",
   "execution_count": 27,
   "metadata": {},
   "outputs": [
    {
     "name": "stdout",
     "output_type": "stream",
     "text": [
      "pvalue:  0.135\n"
     ]
    },
    {
     "data": {
      "image/png": "[encoded data removed]",
      "text/plain": [
       "<Figure size 640x480 with 1 Axes>"
      ]
     },
     "metadata": {},
     "output_type": "display_data"
    }
   ],
   "source": [
    "# it between first last events uncoordinated\n",
    "\n",
    "\n",
    "\n",
    "plt = compare_metrics(pn_IT_fl_u, mc_IT_fl_u, log_IT_fl_u)\n",
    "plt.xlabel('Time (hours)')\n",
    "plt.title('Interarrival Times (First to Last) of Uncoordinated Datasets (UAE)')\n",
    "plt.show()\n"
   ]
  }
 ],
 "metadata": {
  "kernelspec": {
   "display_name": "mphil-project-KaAb4vnI",
   "language": "python",
   "name": "python3"
  },
  "language_info": {
   "codemirror_mode": {
    "name": "ipython",
    "version": 3
   },
   "file_extension": ".py",
   "mimetype": "text/x-python",
   "name": "python",
   "nbconvert_exporter": "python",
   "pygments_lexer": "ipython3",
   "version": "3.10.13"
  }
 },
 "nbformat": 4,
 "nbformat_minor": 2
}
